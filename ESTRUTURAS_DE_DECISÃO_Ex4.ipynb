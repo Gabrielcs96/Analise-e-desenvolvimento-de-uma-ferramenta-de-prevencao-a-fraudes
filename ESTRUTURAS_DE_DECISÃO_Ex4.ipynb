{
  "nbformat": 4,
  "nbformat_minor": 0,
  "metadata": {
    "colab": {
      "provenance": [],
      "authorship_tag": "ABX9TyOrZnzMzxjHNJhWHK0HXmkn",
      "include_colab_link": true
    },
    "kernelspec": {
      "name": "python3",
      "display_name": "Python 3"
    },
    "language_info": {
      "name": "python"
    }
  },
  "cells": [
    {
      "cell_type": "markdown",
      "metadata": {
        "id": "view-in-github",
        "colab_type": "text"
      },
      "source": [
        "<a href=\"https://colab.research.google.com/github/Gabrielcs96/Analise-e-desenvolvimento-de-uma-ferramenta-de-prevencao-a-fraudes/blob/main/ESTRUTURAS_DE_DECIS%C3%83O_Ex4.ipynb\" target=\"_parent\"><img src=\"https://colab.research.google.com/assets/colab-badge.svg\" alt=\"Open In Colab\"/></a>"
      ]
    },
    {
      "cell_type": "code",
      "execution_count": null,
      "metadata": {
        "id": "GqsvpryqU7Ju"
      },
      "outputs": [],
      "source": [
        "#Ler a nota do aluno.\n",
        "#Se a nota do aluno for maior ou igual a 7, exibir a mensagem \"Aprovado\".\n",
        "#Se a nota for menror que 7, leia a nota do exame e calcule a média final.\n",
        "#Se a média final for maior ou igual a 5, exibir a mensagem \"Aprovado em exame\".\n",
        "#Caso contrário, exibir a mensagem \"Reprovado\".\n"
      ]
    },
    {
      "cell_type": "code",
      "source": [
        "nota = float(input(\"Digite a nota do aluno: \"))\n",
        "if nota >= 7:\n",
        "    print(\"Aprovado\")\n",
        "else:\n",
        "    nota_exame = float(input(\"Digite a nota do exame: \"))\n",
        "    media_final = (nota + nota_exame) / 2\n",
        "    if media_final >= 6:\n",
        "        print(\"A nota do aluno foi\",media_final, \"- Aprovado em exame\")\n",
        "    else:\n",
        "      print(\" Infelizmente o aluno foi reprovado\")"
      ],
      "metadata": {
        "colab": {
          "base_uri": "https://localhost:8080/"
        },
        "id": "72Gk3JHJVLKX",
        "outputId": "e303d931-e39a-462f-e451-d8d01233e81b"
      },
      "execution_count": null,
      "outputs": [
        {
          "output_type": "stream",
          "name": "stdout",
          "text": [
            "Digite a nota do aluno: 5\n",
            "Digite a nota do exame: 10\n",
            "A nota do aluno foi 7.5 - Aprovado em exame\n"
          ]
        }
      ]
    },
    {
      "cell_type": "code",
      "source": [],
      "metadata": {
        "id": "MVusM4pZVSvx"
      },
      "execution_count": null,
      "outputs": []
    }
  ]
}