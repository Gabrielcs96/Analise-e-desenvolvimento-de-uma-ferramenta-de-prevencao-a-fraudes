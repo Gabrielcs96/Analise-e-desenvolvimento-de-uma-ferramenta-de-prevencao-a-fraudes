{
  "nbformat": 4,
  "nbformat_minor": 0,
  "metadata": {
    "colab": {
      "provenance": [],
      "authorship_tag": "ABX9TyPbHhgW9R8A4p5yCNZMpeNF",
      "include_colab_link": true
    },
    "kernelspec": {
      "name": "python3",
      "display_name": "Python 3"
    },
    "language_info": {
      "name": "python"
    }
  },
  "cells": [
    {
      "cell_type": "markdown",
      "metadata": {
        "id": "view-in-github",
        "colab_type": "text"
      },
      "source": [
        "<a href=\"https://colab.research.google.com/github/Gabrielcs96/Analise-e-desenvolvimento-de-uma-ferramenta-de-prevencao-a-fraudes/blob/main/Pyspark02.ipynb\" target=\"_parent\"><img src=\"https://colab.research.google.com/assets/colab-badge.svg\" alt=\"Open In Colab\"/></a>"
      ]
    },
    {
      "cell_type": "code",
      "execution_count": 2,
      "metadata": {
        "colab": {
          "base_uri": "https://localhost:8080/"
        },
        "id": "TE5eHMRZpDFo",
        "outputId": "c0640fe7-b122-4f27-882b-26d361053f63"
      },
      "outputs": [
        {
          "output_type": "stream",
          "name": "stdout",
          "text": [
            "Collecting pyspark\n",
            "  Downloading pyspark-3.5.2.tar.gz (317.3 MB)\n",
            "\u001b[2K     \u001b[90m━━━━━━━━━━━━━━━━━━━━━━━━━━━━━━━━━━━━━━━━\u001b[0m \u001b[32m317.3/317.3 MB\u001b[0m \u001b[31m3.7 MB/s\u001b[0m eta \u001b[36m0:00:00\u001b[0m\n",
            "\u001b[?25h  Preparing metadata (setup.py) ... \u001b[?25l\u001b[?25hdone\n",
            "Requirement already satisfied: py4j==0.10.9.7 in /usr/local/lib/python3.10/dist-packages (from pyspark) (0.10.9.7)\n",
            "Building wheels for collected packages: pyspark\n",
            "  Building wheel for pyspark (setup.py) ... \u001b[?25l\u001b[?25hdone\n",
            "  Created wheel for pyspark: filename=pyspark-3.5.2-py2.py3-none-any.whl size=317812365 sha256=4dcf61d224427d7494e2c58849792df540f70ca2e5e01945dea3b3012a8b43a9\n",
            "  Stored in directory: /root/.cache/pip/wheels/34/34/bd/03944534c44b677cd5859f248090daa9fb27b3c8f8e5f49574\n",
            "Successfully built pyspark\n",
            "Installing collected packages: pyspark\n",
            "Successfully installed pyspark-3.5.2\n"
          ]
        }
      ],
      "source": [
        "!pip install pyspark\n",
        "# Install the pyspark package.\n",
        "import os\n",
        "import sys\n",
        "from pyspark.sql import SparkSession\n",
        "from pyspark.sql.functions import *\n",
        "from pyspark.sql.types import *"
      ]
    },
    {
      "cell_type": "markdown",
      "source": [],
      "metadata": {
        "id": "TlIkxOrqpItl"
      }
    },
    {
      "cell_type": "code",
      "source": [
        "from pyspark.sql.window import Window # Window function"
      ],
      "metadata": {
        "id": "nQaRWgdPpyiJ"
      },
      "execution_count": 3,
      "outputs": []
    },
    {
      "cell_type": "markdown",
      "source": [
        "Iniciar sessão com o PySpark"
      ],
      "metadata": {
        "id": "HVQQJYplqbx8"
      }
    },
    {
      "cell_type": "code",
      "source": [
        "spark = (SparkSession.builder\n",
        "         .master('local')\n",
        "         .appName('PySpark_02')\n",
        "         .getOrCreate()\n",
        "      )"
      ],
      "metadata": {
        "id": "nHJjaWASqag5"
      },
      "execution_count": 4,
      "outputs": []
    },
    {
      "cell_type": "code",
      "source": [
        "from google.colab import files\n",
        "uploaded = files.upload()\n"
      ],
      "metadata": {
        "colab": {
          "base_uri": "https://localhost:8080/",
          "height": 73
        },
        "id": "D_dfCbOcqyWq",
        "outputId": "16df5c27-e27f-43d9-8de3-1b8d0a38c5bd"
      },
      "execution_count": 5,
      "outputs": [
        {
          "output_type": "display_data",
          "data": {
            "text/plain": [
              "<IPython.core.display.HTML object>"
            ],
            "text/html": [
              "\n",
              "     <input type=\"file\" id=\"files-808e310b-2ed7-436a-9363-c92d910ea040\" name=\"files[]\" multiple disabled\n",
              "        style=\"border:none\" />\n",
              "     <output id=\"result-808e310b-2ed7-436a-9363-c92d910ea040\">\n",
              "      Upload widget is only available when the cell has been executed in the\n",
              "      current browser session. Please rerun this cell to enable.\n",
              "      </output>\n",
              "      <script>// Copyright 2017 Google LLC\n",
              "//\n",
              "// Licensed under the Apache License, Version 2.0 (the \"License\");\n",
              "// you may not use this file except in compliance with the License.\n",
              "// You may obtain a copy of the License at\n",
              "//\n",
              "//      http://www.apache.org/licenses/LICENSE-2.0\n",
              "//\n",
              "// Unless required by applicable law or agreed to in writing, software\n",
              "// distributed under the License is distributed on an \"AS IS\" BASIS,\n",
              "// WITHOUT WARRANTIES OR CONDITIONS OF ANY KIND, either express or implied.\n",
              "// See the License for the specific language governing permissions and\n",
              "// limitations under the License.\n",
              "\n",
              "/**\n",
              " * @fileoverview Helpers for google.colab Python module.\n",
              " */\n",
              "(function(scope) {\n",
              "function span(text, styleAttributes = {}) {\n",
              "  const element = document.createElement('span');\n",
              "  element.textContent = text;\n",
              "  for (const key of Object.keys(styleAttributes)) {\n",
              "    element.style[key] = styleAttributes[key];\n",
              "  }\n",
              "  return element;\n",
              "}\n",
              "\n",
              "// Max number of bytes which will be uploaded at a time.\n",
              "const MAX_PAYLOAD_SIZE = 100 * 1024;\n",
              "\n",
              "function _uploadFiles(inputId, outputId) {\n",
              "  const steps = uploadFilesStep(inputId, outputId);\n",
              "  const outputElement = document.getElementById(outputId);\n",
              "  // Cache steps on the outputElement to make it available for the next call\n",
              "  // to uploadFilesContinue from Python.\n",
              "  outputElement.steps = steps;\n",
              "\n",
              "  return _uploadFilesContinue(outputId);\n",
              "}\n",
              "\n",
              "// This is roughly an async generator (not supported in the browser yet),\n",
              "// where there are multiple asynchronous steps and the Python side is going\n",
              "// to poll for completion of each step.\n",
              "// This uses a Promise to block the python side on completion of each step,\n",
              "// then passes the result of the previous step as the input to the next step.\n",
              "function _uploadFilesContinue(outputId) {\n",
              "  const outputElement = document.getElementById(outputId);\n",
              "  const steps = outputElement.steps;\n",
              "\n",
              "  const next = steps.next(outputElement.lastPromiseValue);\n",
              "  return Promise.resolve(next.value.promise).then((value) => {\n",
              "    // Cache the last promise value to make it available to the next\n",
              "    // step of the generator.\n",
              "    outputElement.lastPromiseValue = value;\n",
              "    return next.value.response;\n",
              "  });\n",
              "}\n",
              "\n",
              "/**\n",
              " * Generator function which is called between each async step of the upload\n",
              " * process.\n",
              " * @param {string} inputId Element ID of the input file picker element.\n",
              " * @param {string} outputId Element ID of the output display.\n",
              " * @return {!Iterable<!Object>} Iterable of next steps.\n",
              " */\n",
              "function* uploadFilesStep(inputId, outputId) {\n",
              "  const inputElement = document.getElementById(inputId);\n",
              "  inputElement.disabled = false;\n",
              "\n",
              "  const outputElement = document.getElementById(outputId);\n",
              "  outputElement.innerHTML = '';\n",
              "\n",
              "  const pickedPromise = new Promise((resolve) => {\n",
              "    inputElement.addEventListener('change', (e) => {\n",
              "      resolve(e.target.files);\n",
              "    });\n",
              "  });\n",
              "\n",
              "  const cancel = document.createElement('button');\n",
              "  inputElement.parentElement.appendChild(cancel);\n",
              "  cancel.textContent = 'Cancel upload';\n",
              "  const cancelPromise = new Promise((resolve) => {\n",
              "    cancel.onclick = () => {\n",
              "      resolve(null);\n",
              "    };\n",
              "  });\n",
              "\n",
              "  // Wait for the user to pick the files.\n",
              "  const files = yield {\n",
              "    promise: Promise.race([pickedPromise, cancelPromise]),\n",
              "    response: {\n",
              "      action: 'starting',\n",
              "    }\n",
              "  };\n",
              "\n",
              "  cancel.remove();\n",
              "\n",
              "  // Disable the input element since further picks are not allowed.\n",
              "  inputElement.disabled = true;\n",
              "\n",
              "  if (!files) {\n",
              "    return {\n",
              "      response: {\n",
              "        action: 'complete',\n",
              "      }\n",
              "    };\n",
              "  }\n",
              "\n",
              "  for (const file of files) {\n",
              "    const li = document.createElement('li');\n",
              "    li.append(span(file.name, {fontWeight: 'bold'}));\n",
              "    li.append(span(\n",
              "        `(${file.type || 'n/a'}) - ${file.size} bytes, ` +\n",
              "        `last modified: ${\n",
              "            file.lastModifiedDate ? file.lastModifiedDate.toLocaleDateString() :\n",
              "                                    'n/a'} - `));\n",
              "    const percent = span('0% done');\n",
              "    li.appendChild(percent);\n",
              "\n",
              "    outputElement.appendChild(li);\n",
              "\n",
              "    const fileDataPromise = new Promise((resolve) => {\n",
              "      const reader = new FileReader();\n",
              "      reader.onload = (e) => {\n",
              "        resolve(e.target.result);\n",
              "      };\n",
              "      reader.readAsArrayBuffer(file);\n",
              "    });\n",
              "    // Wait for the data to be ready.\n",
              "    let fileData = yield {\n",
              "      promise: fileDataPromise,\n",
              "      response: {\n",
              "        action: 'continue',\n",
              "      }\n",
              "    };\n",
              "\n",
              "    // Use a chunked sending to avoid message size limits. See b/62115660.\n",
              "    let position = 0;\n",
              "    do {\n",
              "      const length = Math.min(fileData.byteLength - position, MAX_PAYLOAD_SIZE);\n",
              "      const chunk = new Uint8Array(fileData, position, length);\n",
              "      position += length;\n",
              "\n",
              "      const base64 = btoa(String.fromCharCode.apply(null, chunk));\n",
              "      yield {\n",
              "        response: {\n",
              "          action: 'append',\n",
              "          file: file.name,\n",
              "          data: base64,\n",
              "        },\n",
              "      };\n",
              "\n",
              "      let percentDone = fileData.byteLength === 0 ?\n",
              "          100 :\n",
              "          Math.round((position / fileData.byteLength) * 100);\n",
              "      percent.textContent = `${percentDone}% done`;\n",
              "\n",
              "    } while (position < fileData.byteLength);\n",
              "  }\n",
              "\n",
              "  // All done.\n",
              "  yield {\n",
              "    response: {\n",
              "      action: 'complete',\n",
              "    }\n",
              "  };\n",
              "}\n",
              "\n",
              "scope.google = scope.google || {};\n",
              "scope.google.colab = scope.google.colab || {};\n",
              "scope.google.colab._files = {\n",
              "  _uploadFiles,\n",
              "  _uploadFilesContinue,\n",
              "};\n",
              "})(self);\n",
              "</script> "
            ]
          },
          "metadata": {}
        },
        {
          "output_type": "stream",
          "name": "stdout",
          "text": [
            "Saving wc2018-players.csv to wc2018-players.csv\n"
          ]
        }
      ]
    },
    {
      "cell_type": "code",
      "source": [
        "df = spark.read.csv('wc2018-players.csv', header=True, inferSchema=True)"
      ],
      "metadata": {
        "id": "6Sj9BGP_q6-m"
      },
      "execution_count": 6,
      "outputs": []
    },
    {
      "cell_type": "code",
      "source": [
        "df.show(5)"
      ],
      "metadata": {
        "colab": {
          "base_uri": "https://localhost:8080/"
        },
        "id": "4w2lgppkrWRM",
        "outputId": "ed0af02c-ab52-4681-ab8b-66a3bdd78f0d"
      },
      "execution_count": 7,
      "outputs": [
        {
          "output_type": "stream",
          "name": "stdout",
          "text": [
            "+---------+---+----+------------------+----------+----------+--------------------+------+------+\n",
            "|     Team|  #|Pos.| FIFA Popular Name|Birth Date|Shirt Name|                Club|Height|Weight|\n",
            "+---------+---+----+------------------+----------+----------+--------------------+------+------+\n",
            "|Argentina|  3|  DF|TAGLIAFICO Nicolas|31.08.1992|TAGLIAFICO|      AFC Ajax (NED)|   169|    65|\n",
            "|Argentina| 22|  MF|    PAVON Cristian|21.01.1996|     PAVÓN|CA Boca Juniors (...|   169|    65|\n",
            "|Argentina| 15|  MF|    LANZINI Manuel|15.02.1993|   LANZINI|West Ham United F...|   167|    66|\n",
            "|Argentina| 18|  DF|    SALVIO Eduardo|13.07.1990|    SALVIO|    SL Benfica (POR)|   167|    69|\n",
            "|Argentina| 10|  FW|      MESSI Lionel|24.06.1987|     MESSI|  FC Barcelona (ESP)|   170|    72|\n",
            "+---------+---+----+------------------+----------+----------+--------------------+------+------+\n",
            "only showing top 5 rows\n",
            "\n"
          ]
        }
      ]
    },
    {
      "cell_type": "code",
      "source": [
        "df = df.withColumnRenamed('Team', 'Selecao').withColumnRenamed('Position', 'Posicao').withColumnRenamed('Shirt Name', 'Camisa').withColumnRenamed('Age', 'Idade')\\\n",
        ".withColumnRenamed('Height', 'Altura').withColumnRenamed('Weight', 'Peso').withColumnRenamed('FIFA Popular Name', 'Nome_FIFA').withColumnRenamed('#', 'Numero')\\\n",
        ".withColumnRenamed('Birth Date', 'Nascimento').withColumnRenamed('Club', 'Time').withColumnRenamed('Pos.','Posicao')"
      ],
      "metadata": {
        "id": "SYxIccxjrYvV"
      },
      "execution_count": 8,
      "outputs": []
    },
    {
      "cell_type": "code",
      "source": [
        "dia = udf(lambda data: data.split('.')[0])\n",
        "mes = udf(lambda data: data.split('.')[1])\n",
        "ano = udf(lambda data: data.split('.')[2])"
      ],
      "metadata": {
        "id": "aHAWxp4Bs_1_"
      },
      "execution_count": 9,
      "outputs": []
    },
    {
      "cell_type": "code",
      "source": [
        "\n",
        "df = df.withColumn('Dia', dia('Nascimento')).withColumn('Mes', mes('Nascimento')).withColumn('Ano', ano('Nascimento'))\n",
        "df = df.withColumn('Data_Nascimento', concat_ws('-', 'Ano', 'Mes', 'Dia').cast(DateType())) # Cast to DateType"
      ],
      "metadata": {
        "id": "ZJf3LU3nuAB3"
      },
      "execution_count": 10,
      "outputs": []
    },
    {
      "cell_type": "code",
      "source": [
        "df.show(5)"
      ],
      "metadata": {
        "colab": {
          "base_uri": "https://localhost:8080/"
        },
        "id": "x5w87_RyuB7l",
        "outputId": "10b7ab24-8d46-486a-d8c0-c2b3abe626ec"
      },
      "execution_count": 11,
      "outputs": [
        {
          "output_type": "stream",
          "name": "stdout",
          "text": [
            "+---------+------+-------+------------------+----------+----------+--------------------+------+----+---+---+----+---------------+\n",
            "|  Selecao|Numero|Posicao|         Nome_FIFA|Nascimento|    Camisa|                Time|Altura|Peso|Dia|Mes| Ano|Data_Nascimento|\n",
            "+---------+------+-------+------------------+----------+----------+--------------------+------+----+---+---+----+---------------+\n",
            "|Argentina|     3|     DF|TAGLIAFICO Nicolas|31.08.1992|TAGLIAFICO|      AFC Ajax (NED)|   169|  65| 31| 08|1992|     1992-08-31|\n",
            "|Argentina|    22|     MF|    PAVON Cristian|21.01.1996|     PAVÓN|CA Boca Juniors (...|   169|  65| 21| 01|1996|     1996-01-21|\n",
            "|Argentina|    15|     MF|    LANZINI Manuel|15.02.1993|   LANZINI|West Ham United F...|   167|  66| 15| 02|1993|     1993-02-15|\n",
            "|Argentina|    18|     DF|    SALVIO Eduardo|13.07.1990|    SALVIO|    SL Benfica (POR)|   167|  69| 13| 07|1990|     1990-07-13|\n",
            "|Argentina|    10|     FW|      MESSI Lionel|24.06.1987|     MESSI|  FC Barcelona (ESP)|   170|  72| 24| 06|1987|     1987-06-24|\n",
            "+---------+------+-------+------------------+----------+----------+--------------------+------+----+---+---+----+---------------+\n",
            "only showing top 5 rows\n",
            "\n"
          ]
        }
      ]
    },
    {
      "cell_type": "markdown",
      "source": [
        "A coluna \" nascimento \" agora é inútil. Vamos remover ela !"
      ],
      "metadata": {
        "id": "Xwdq1iF8vaIe"
      }
    },
    {
      "cell_type": "code",
      "source": [
        "df = df.drop('Nascimento')"
      ],
      "metadata": {
        "id": "A8sBiRZ4u0Wp"
      },
      "execution_count": 12,
      "outputs": []
    },
    {
      "cell_type": "code",
      "source": [
        "#Backup do DF\n",
        "df2 = df"
      ],
      "metadata": {
        "id": "lEKDf2gWvjAg"
      },
      "execution_count": 13,
      "outputs": []
    },
    {
      "cell_type": "markdown",
      "source": [
        "Vamos começar a  Usar esse Window.particionBy é algo parecido com o Group By do SQL ... O legal aqui é que você consegue usar o \" partition \" como parte do código para gerar um row number  e enumerar os caras, nesse caso aqui pela altura para cada seleção.\n",
        "\n",
        "\n"
      ],
      "metadata": {
        "id": "CjpGpJ660KDN"
      }
    },
    {
      "cell_type": "code",
      "source": [
        "parametro = Window.partitionBy('Selecao').orderBy(col('Altura').desc())\n",
        "df.withColumn('numero_lina', row_number().over(parametro)).show(50)"
      ],
      "metadata": {
        "colab": {
          "base_uri": "https://localhost:8080/"
        },
        "id": "8od0sHpXvkNB",
        "outputId": "52c01b37-5725-41b8-eaa2-0014d1611842"
      },
      "execution_count": 14,
      "outputs": [
        {
          "output_type": "stream",
          "name": "stdout",
          "text": [
            "+---------+------+-------+------------------+----------+--------------------+------+----+---+---+----+---------------+-----------+\n",
            "|  Selecao|Numero|Posicao|         Nome_FIFA|    Camisa|                Time|Altura|Peso|Dia|Mes| Ano|Data_Nascimento|numero_lina|\n",
            "+---------+------+-------+------------------+----------+--------------------+------+----+---+---+----+---------------+-----------+\n",
            "|Argentina|     6|     DF|    FAZIO Federico|     FAZIO|       AS Roma (ITA)|   199|  85| 17| 03|1987|     1987-03-17|          1|\n",
            "|Argentina|     1|     GK|     GUZMAN Nahuel|    GUZMÁN|   Tigres UANL (MEX)|   192|  90| 10| 02|1986|     1986-02-10|          2|\n",
            "|Argentina|    16|     DF|       ROJO Marcos|      ROJO|Manchester United...|   189|  82| 20| 03|1990|     1990-03-20|          3|\n",
            "|Argentina|    12|     GK|     ARMANI Franco|    ARMANI|CA River Plate (ARG)|   189|  85| 16| 10|1986|     1986-10-16|          4|\n",
            "|Argentina|    23|     GK|CABALLERO Wilfredo| CABALLERO|    Chelsea FC (ENG)|   186|  80| 28| 09|1981|     1981-09-28|          5|\n",
            "|Argentina|     9|     FW|   HIGUAIN Gonzalo|   HIGUAÍN|   Juventus FC (ITA)|   184|  75| 10| 12|1987|     1987-12-10|          6|\n",
            "|Argentina|     4|     DF|  ANSALDI Cristian|   ANSALDI|     Torino FC (ITA)|   181|  73| 20| 09|1986|     1986-09-20|          7|\n",
            "|Argentina|     2|     DF|   MERCADO Gabriel|   MERCADO|    Sevilla FC (ESP)|   181|  81| 18| 03|1987|     1987-03-18|          8|\n",
            "|Argentina|    17|     DF|  OTAMENDI Nicolas|  OTAMENDI|Manchester City F...|   181|  81| 12| 02|1988|     1988-02-12|          9|\n",
            "|Argentina|    13|     MF|  MEZA Maximiliano|      MEZA|CA Independiente ...|   180|  76| 15| 12|1992|     1992-12-15|         10|\n",
            "|Argentina|    11|     MF|    DI MARIA Angel|  DI MARÍA|Paris Saint-Germa...|   178|  75| 14| 02|1988|     1988-02-14|         11|\n",
            "|Argentina|    21|     FW|      DYBALA Paulo|    DYBALA|   Juventus FC (ITA)|   177|  73| 15| 11|1993|     1993-11-15|         12|\n",
            "|Argentina|    20|     MF|  LO CELSO Giovani|  LO CELSO|Paris Saint-Germa...|   177|  75| 09| 04|1996|     1996-04-09|         13|\n",
            "|Argentina|     5|     MF|      BIGLIA Lucas|    BIGLIA|      AC Milan (ITA)|   175|  73| 30| 01|1986|     1986-01-30|         14|\n",
            "|Argentina|     7|     MF|       BANEGA Ever|    BANEGA|    Sevilla FC (ESP)|   175|  73| 29| 06|1988|     1988-06-29|         15|\n",
            "|Argentina|    14|     DF| MASCHERANO Javier|MASCHERANO|Hebei China Fortu...|   174|  73| 08| 06|1984|     1984-06-08|         16|\n",
            "|Argentina|    19|     FW|     AGUERO Sergio|    AGÜERO|Manchester City F...|   172|  74| 02| 06|1988|     1988-06-02|         17|\n",
            "|Argentina|     8|     DF|      ACUNA Marcos|     ACUÑA|   Sporting CP (POR)|   172|  77| 28| 10|1991|     1991-10-28|         18|\n",
            "|Argentina|    10|     FW|      MESSI Lionel|     MESSI|  FC Barcelona (ESP)|   170|  72| 24| 06|1987|     1987-06-24|         19|\n",
            "|Argentina|     3|     DF|TAGLIAFICO Nicolas|TAGLIAFICO|      AFC Ajax (NED)|   169|  65| 31| 08|1992|     1992-08-31|         20|\n",
            "|Argentina|    22|     MF|    PAVON Cristian|     PAVÓN|CA Boca Juniors (...|   169|  65| 21| 01|1996|     1996-01-21|         21|\n",
            "|Argentina|    15|     MF|    LANZINI Manuel|   LANZINI|West Ham United F...|   167|  66| 15| 02|1993|     1993-02-15|         22|\n",
            "|Argentina|    18|     DF|    SALVIO Eduardo|    SALVIO|    SL Benfica (POR)|   167|  69| 13| 07|1990|     1990-07-13|         23|\n",
            "|Australia|    12|     GK|        JONES Brad|     JONES|Feyenoord Rotterd...|   193|  87| 19| 03|1982|     1982-03-19|          1|\n",
            "|Australia|     9|     FW|        JURIC Tomi|     JURIC|     FC Luzern (SUI)|   190|  80| 22| 07|1991|     1991-07-22|          2|\n",
            "|Australia|     6|     DF|    JURMAN Matthew|    JURMAN|Suwon Samsung Blu...|   190|  83| 08| 12|1989|     1989-12-08|          3|\n",
            "|Australia|    23|     MF|         ROGIC Tom|     ROGIC|     Celtic FC (SCO)|   189|  88| 16| 12|1992|     1992-12-16|          4|\n",
            "|Australia|    15|     MF|      JEDINAK Mile|   JEDINAK|Aston Villa FC (ENG)|   188|  78| 03| 08|1984|     1984-08-03|          5|\n",
            "|Australia|     2|     DF|     DEGENEK Milos|   DEGENEK|Yokohama F-Marino...|   187|  85| 28| 04|1994|     1994-04-28|          6|\n",
            "|Australia|    18|     GK|     VUKOVIC Danny|   VUKOVIC|      KRC Genk (BEL)|   187|  94| 27| 03|1985|     1985-03-27|          7|\n",
            "|Australia|     1|     GK|       RYAN Mathew|      RYAN|Brighton & Hove A...|   184|  82| 08| 04|1992|     1992-04-08|          8|\n",
            "|Australia|    20|     DF|   SAINSBURY Trent| SAINSBURY|Grasshopper Club ...|   183|  76| 05| 01|1992|     1992-01-05|          9|\n",
            "|Australia|     7|     FW|     LECKIE Mathew|    LECKIE|    Hertha BSC (GER)|   181|  84| 04| 02|1991|     1991-02-04|         10|\n",
            "|Australia|    10|     FW|      KRUSE Robbie|     KRUSE|    VfL Bochum (GER)|   180|  66| 05| 10|1988|     1988-10-05|         11|\n",
            "|Australia|     4|     FW|        CAHILL Tim|    CAHILL|   Millwall FC (ENG)|   180|  76| 06| 12|1979|     1979-12-06|         12|\n",
            "|Australia|    22|     MF|    IRVINE Jackson|    IRVINE|  Hull City FC (ENG)|   180|  77| 07| 03|1993|     1993-03-07|         13|\n",
            "|Australia|     3|     DF|    MEREDITH James|  MEREDITH|   Millwall FC (ENG)|   179|  71| 05| 04|1988|     1988-04-05|         14|\n",
            "|Australia|    14|     FW|    MacLAREN Jamie|  MACLAREN|  Hibernian FC (SCO)|   178|  72| 29| 07|1993|     1993-07-29|         15|\n",
            "|Australia|     5|     DF|     MILLIGAN Mark|  MILLIGAN|    Al Ahli SC (KSA)|   178|  78| 04| 08|1985|     1985-08-04|         16|\n",
            "|Australia|    11|     FW|    NABBOUT Andrew|   NABBOUT|    Urawa Reds (JPN)|   178|  85| 17| 12|1992|     1992-12-17|         17|\n",
            "|Australia|    21|     FW|PETRATOS Dimitrios|  PETRATOS|Newcastle United ...|   176|  72| 10| 11|1992|     1992-11-10|         18|\n",
            "|Australia|     8|     MF|    LUONGO Massimo|    LUONGO|Queens Park Range...|   176|  76| 25| 09|1992|     1992-09-25|         19|\n",
            "|Australia|    13|     MF|        MOOY Aaron|      MOOY|Huddersfield Town...|   173|  72| 15| 09|1990|     1990-09-15|         20|\n",
            "|Australia|    17|     FW|     ARZANI Daniel|    ARZANI|Melbourne City FC...|   171|  73| 04| 01|1999|     1999-01-04|         21|\n",
            "|Australia|    16|     DF|       BEHICH Aziz|    BEHICH|     Bursaspor (TUR)|   170|  63| 16| 12|1990|     1990-12-16|         22|\n",
            "|Australia|    19|     DF|     RISDON Joshua|    RISDON|WS Wanderers FC (...|   169|  70| 27| 07|1992|     1992-07-27|         23|\n",
            "|  Belgium|     1|     GK|  COURTOIS Thibaut|  COURTOIS|    Chelsea FC (ENG)|   199|  91| 11| 05|1992|     1992-05-11|          1|\n",
            "|  Belgium|    13|     GK|     CASTEELS Koen|  CASTEELS| VfL Wolfsburg (GER)|   197|  86| 25| 06|1992|     1992-06-25|          2|\n",
            "|  Belgium|     8|     MF| FELLAINI Marouane|  FELLAINI|Manchester United...|   194|  85| 22| 11|1987|     1987-11-22|          3|\n",
            "|  Belgium|    12|     GK|    MIGNOLET Simon|  MIGNOLET|  Liverpool FC (ENG)|   193|  87| 06| 03|1988|     1988-03-06|          4|\n",
            "+---------+------+-------+------------------+----------+--------------------+------+----+---+---+----+---------------+-----------+\n",
            "only showing top 50 rows\n",
            "\n"
          ]
        }
      ]
    },
    {
      "cell_type": "code",
      "source": [
        "parametro2= Window.partitionBy('Selecao').orderBy(col('Numero').asc())\n",
        "df.withColumn('numero_linha2', row_number().over(parametro2)).show(50)"
      ],
      "metadata": {
        "colab": {
          "base_uri": "https://localhost:8080/"
        },
        "id": "iXB1EB_r0LrY",
        "outputId": "3e65f46f-27e4-40a7-9e36-6454c36f50f4"
      },
      "execution_count": 15,
      "outputs": [
        {
          "output_type": "stream",
          "name": "stdout",
          "text": [
            "+---------+------+-------+------------------+------------+--------------------+------+----+---+---+----+---------------+-------------+\n",
            "|  Selecao|Numero|Posicao|         Nome_FIFA|      Camisa|                Time|Altura|Peso|Dia|Mes| Ano|Data_Nascimento|numero_linha2|\n",
            "+---------+------+-------+------------------+------------+--------------------+------+----+---+---+----+---------------+-------------+\n",
            "|Argentina|     1|     GK|     GUZMAN Nahuel|      GUZMÁN|   Tigres UANL (MEX)|   192|  90| 10| 02|1986|     1986-02-10|            1|\n",
            "|Argentina|     2|     DF|   MERCADO Gabriel|     MERCADO|    Sevilla FC (ESP)|   181|  81| 18| 03|1987|     1987-03-18|            2|\n",
            "|Argentina|     3|     DF|TAGLIAFICO Nicolas|  TAGLIAFICO|      AFC Ajax (NED)|   169|  65| 31| 08|1992|     1992-08-31|            3|\n",
            "|Argentina|     4|     DF|  ANSALDI Cristian|     ANSALDI|     Torino FC (ITA)|   181|  73| 20| 09|1986|     1986-09-20|            4|\n",
            "|Argentina|     5|     MF|      BIGLIA Lucas|      BIGLIA|      AC Milan (ITA)|   175|  73| 30| 01|1986|     1986-01-30|            5|\n",
            "|Argentina|     6|     DF|    FAZIO Federico|       FAZIO|       AS Roma (ITA)|   199|  85| 17| 03|1987|     1987-03-17|            6|\n",
            "|Argentina|     7|     MF|       BANEGA Ever|      BANEGA|    Sevilla FC (ESP)|   175|  73| 29| 06|1988|     1988-06-29|            7|\n",
            "|Argentina|     8|     DF|      ACUNA Marcos|       ACUÑA|   Sporting CP (POR)|   172|  77| 28| 10|1991|     1991-10-28|            8|\n",
            "|Argentina|     9|     FW|   HIGUAIN Gonzalo|     HIGUAÍN|   Juventus FC (ITA)|   184|  75| 10| 12|1987|     1987-12-10|            9|\n",
            "|Argentina|    10|     FW|      MESSI Lionel|       MESSI|  FC Barcelona (ESP)|   170|  72| 24| 06|1987|     1987-06-24|           10|\n",
            "|Argentina|    11|     MF|    DI MARIA Angel|    DI MARÍA|Paris Saint-Germa...|   178|  75| 14| 02|1988|     1988-02-14|           11|\n",
            "|Argentina|    12|     GK|     ARMANI Franco|      ARMANI|CA River Plate (ARG)|   189|  85| 16| 10|1986|     1986-10-16|           12|\n",
            "|Argentina|    13|     MF|  MEZA Maximiliano|        MEZA|CA Independiente ...|   180|  76| 15| 12|1992|     1992-12-15|           13|\n",
            "|Argentina|    14|     DF| MASCHERANO Javier|  MASCHERANO|Hebei China Fortu...|   174|  73| 08| 06|1984|     1984-06-08|           14|\n",
            "|Argentina|    15|     MF|    LANZINI Manuel|     LANZINI|West Ham United F...|   167|  66| 15| 02|1993|     1993-02-15|           15|\n",
            "|Argentina|    16|     DF|       ROJO Marcos|        ROJO|Manchester United...|   189|  82| 20| 03|1990|     1990-03-20|           16|\n",
            "|Argentina|    17|     DF|  OTAMENDI Nicolas|    OTAMENDI|Manchester City F...|   181|  81| 12| 02|1988|     1988-02-12|           17|\n",
            "|Argentina|    18|     DF|    SALVIO Eduardo|      SALVIO|    SL Benfica (POR)|   167|  69| 13| 07|1990|     1990-07-13|           18|\n",
            "|Argentina|    19|     FW|     AGUERO Sergio|      AGÜERO|Manchester City F...|   172|  74| 02| 06|1988|     1988-06-02|           19|\n",
            "|Argentina|    20|     MF|  LO CELSO Giovani|    LO CELSO|Paris Saint-Germa...|   177|  75| 09| 04|1996|     1996-04-09|           20|\n",
            "|Argentina|    21|     FW|      DYBALA Paulo|      DYBALA|   Juventus FC (ITA)|   177|  73| 15| 11|1993|     1993-11-15|           21|\n",
            "|Argentina|    22|     MF|    PAVON Cristian|       PAVÓN|CA Boca Juniors (...|   169|  65| 21| 01|1996|     1996-01-21|           22|\n",
            "|Argentina|    23|     GK|CABALLERO Wilfredo|   CABALLERO|    Chelsea FC (ENG)|   186|  80| 28| 09|1981|     1981-09-28|           23|\n",
            "|Australia|     1|     GK|       RYAN Mathew|        RYAN|Brighton & Hove A...|   184|  82| 08| 04|1992|     1992-04-08|            1|\n",
            "|Australia|     2|     DF|     DEGENEK Milos|     DEGENEK|Yokohama F-Marino...|   187|  85| 28| 04|1994|     1994-04-28|            2|\n",
            "|Australia|     3|     DF|    MEREDITH James|    MEREDITH|   Millwall FC (ENG)|   179|  71| 05| 04|1988|     1988-04-05|            3|\n",
            "|Australia|     4|     FW|        CAHILL Tim|      CAHILL|   Millwall FC (ENG)|   180|  76| 06| 12|1979|     1979-12-06|            4|\n",
            "|Australia|     5|     DF|     MILLIGAN Mark|    MILLIGAN|    Al Ahli SC (KSA)|   178|  78| 04| 08|1985|     1985-08-04|            5|\n",
            "|Australia|     6|     DF|    JURMAN Matthew|      JURMAN|Suwon Samsung Blu...|   190|  83| 08| 12|1989|     1989-12-08|            6|\n",
            "|Australia|     7|     FW|     LECKIE Mathew|      LECKIE|    Hertha BSC (GER)|   181|  84| 04| 02|1991|     1991-02-04|            7|\n",
            "|Australia|     8|     MF|    LUONGO Massimo|      LUONGO|Queens Park Range...|   176|  76| 25| 09|1992|     1992-09-25|            8|\n",
            "|Australia|     9|     FW|        JURIC Tomi|       JURIC|     FC Luzern (SUI)|   190|  80| 22| 07|1991|     1991-07-22|            9|\n",
            "|Australia|    10|     FW|      KRUSE Robbie|       KRUSE|    VfL Bochum (GER)|   180|  66| 05| 10|1988|     1988-10-05|           10|\n",
            "|Australia|    11|     FW|    NABBOUT Andrew|     NABBOUT|    Urawa Reds (JPN)|   178|  85| 17| 12|1992|     1992-12-17|           11|\n",
            "|Australia|    12|     GK|        JONES Brad|       JONES|Feyenoord Rotterd...|   193|  87| 19| 03|1982|     1982-03-19|           12|\n",
            "|Australia|    13|     MF|        MOOY Aaron|        MOOY|Huddersfield Town...|   173|  72| 15| 09|1990|     1990-09-15|           13|\n",
            "|Australia|    14|     FW|    MacLAREN Jamie|    MACLAREN|  Hibernian FC (SCO)|   178|  72| 29| 07|1993|     1993-07-29|           14|\n",
            "|Australia|    15|     MF|      JEDINAK Mile|     JEDINAK|Aston Villa FC (ENG)|   188|  78| 03| 08|1984|     1984-08-03|           15|\n",
            "|Australia|    16|     DF|       BEHICH Aziz|      BEHICH|     Bursaspor (TUR)|   170|  63| 16| 12|1990|     1990-12-16|           16|\n",
            "|Australia|    17|     FW|     ARZANI Daniel|      ARZANI|Melbourne City FC...|   171|  73| 04| 01|1999|     1999-01-04|           17|\n",
            "|Australia|    18|     GK|     VUKOVIC Danny|     VUKOVIC|      KRC Genk (BEL)|   187|  94| 27| 03|1985|     1985-03-27|           18|\n",
            "|Australia|    19|     DF|     RISDON Joshua|      RISDON|WS Wanderers FC (...|   169|  70| 27| 07|1992|     1992-07-27|           19|\n",
            "|Australia|    20|     DF|   SAINSBURY Trent|   SAINSBURY|Grasshopper Club ...|   183|  76| 05| 01|1992|     1992-01-05|           20|\n",
            "|Australia|    21|     FW|PETRATOS Dimitrios|    PETRATOS|Newcastle United ...|   176|  72| 10| 11|1992|     1992-11-10|           21|\n",
            "|Australia|    22|     MF|    IRVINE Jackson|      IRVINE|  Hull City FC (ENG)|   180|  77| 07| 03|1993|     1993-03-07|           22|\n",
            "|Australia|    23|     MF|         ROGIC Tom|       ROGIC|     Celtic FC (SCO)|   189|  88| 16| 12|1992|     1992-12-16|           23|\n",
            "|  Belgium|     1|     GK|  COURTOIS Thibaut|    COURTOIS|    Chelsea FC (ENG)|   199|  91| 11| 05|1992|     1992-05-11|            1|\n",
            "|  Belgium|     2|     DF| ALDERWEIRELD Toby|ALDERWEIRELD|Tottenham Hotspur...|   186|  81| 02| 03|1989|     1989-03-02|            2|\n",
            "|  Belgium|     3|     DF|  VERMAELEN Thomas|   VERMAELEN|  FC Barcelona (ESP)|   183|  80| 14| 11|1985|     1985-11-14|            3|\n",
            "|  Belgium|     4|     DF|   KOMPANY Vincent|     KOMPANY|Manchester City F...|   190|  85| 10| 04|1986|     1986-04-10|            4|\n",
            "+---------+------+-------+------------------+------------+--------------------+------+----+---+---+----+---------------+-------------+\n",
            "only showing top 50 rows\n",
            "\n"
          ]
        }
      ]
    },
    {
      "cell_type": "markdown",
      "source": [
        "Vamos usar o Rank"
      ],
      "metadata": {
        "id": "MfVPROssy-Mp"
      }
    },
    {
      "cell_type": "code",
      "source": [
        "rank1 = Window.partitionBy('Selecao').orderBy(desc('Altura'))\n",
        "df.withColumn('rank',rank().over(rank1)).show(50)"
      ],
      "metadata": {
        "colab": {
          "base_uri": "https://localhost:8080/"
        },
        "id": "QlNFuUHPy7Aa",
        "outputId": "9bc3bcde-676b-4d16-e28f-35fa454b3f8e"
      },
      "execution_count": 16,
      "outputs": [
        {
          "output_type": "stream",
          "name": "stdout",
          "text": [
            "+---------+------+-------+------------------+----------+--------------------+------+----+---+---+----+---------------+----+\n",
            "|  Selecao|Numero|Posicao|         Nome_FIFA|    Camisa|                Time|Altura|Peso|Dia|Mes| Ano|Data_Nascimento|rank|\n",
            "+---------+------+-------+------------------+----------+--------------------+------+----+---+---+----+---------------+----+\n",
            "|Argentina|     6|     DF|    FAZIO Federico|     FAZIO|       AS Roma (ITA)|   199|  85| 17| 03|1987|     1987-03-17|   1|\n",
            "|Argentina|     1|     GK|     GUZMAN Nahuel|    GUZMÁN|   Tigres UANL (MEX)|   192|  90| 10| 02|1986|     1986-02-10|   2|\n",
            "|Argentina|    16|     DF|       ROJO Marcos|      ROJO|Manchester United...|   189|  82| 20| 03|1990|     1990-03-20|   3|\n",
            "|Argentina|    12|     GK|     ARMANI Franco|    ARMANI|CA River Plate (ARG)|   189|  85| 16| 10|1986|     1986-10-16|   3|\n",
            "|Argentina|    23|     GK|CABALLERO Wilfredo| CABALLERO|    Chelsea FC (ENG)|   186|  80| 28| 09|1981|     1981-09-28|   5|\n",
            "|Argentina|     9|     FW|   HIGUAIN Gonzalo|   HIGUAÍN|   Juventus FC (ITA)|   184|  75| 10| 12|1987|     1987-12-10|   6|\n",
            "|Argentina|     4|     DF|  ANSALDI Cristian|   ANSALDI|     Torino FC (ITA)|   181|  73| 20| 09|1986|     1986-09-20|   7|\n",
            "|Argentina|     2|     DF|   MERCADO Gabriel|   MERCADO|    Sevilla FC (ESP)|   181|  81| 18| 03|1987|     1987-03-18|   7|\n",
            "|Argentina|    17|     DF|  OTAMENDI Nicolas|  OTAMENDI|Manchester City F...|   181|  81| 12| 02|1988|     1988-02-12|   7|\n",
            "|Argentina|    13|     MF|  MEZA Maximiliano|      MEZA|CA Independiente ...|   180|  76| 15| 12|1992|     1992-12-15|  10|\n",
            "|Argentina|    11|     MF|    DI MARIA Angel|  DI MARÍA|Paris Saint-Germa...|   178|  75| 14| 02|1988|     1988-02-14|  11|\n",
            "|Argentina|    21|     FW|      DYBALA Paulo|    DYBALA|   Juventus FC (ITA)|   177|  73| 15| 11|1993|     1993-11-15|  12|\n",
            "|Argentina|    20|     MF|  LO CELSO Giovani|  LO CELSO|Paris Saint-Germa...|   177|  75| 09| 04|1996|     1996-04-09|  12|\n",
            "|Argentina|     5|     MF|      BIGLIA Lucas|    BIGLIA|      AC Milan (ITA)|   175|  73| 30| 01|1986|     1986-01-30|  14|\n",
            "|Argentina|     7|     MF|       BANEGA Ever|    BANEGA|    Sevilla FC (ESP)|   175|  73| 29| 06|1988|     1988-06-29|  14|\n",
            "|Argentina|    14|     DF| MASCHERANO Javier|MASCHERANO|Hebei China Fortu...|   174|  73| 08| 06|1984|     1984-06-08|  16|\n",
            "|Argentina|    19|     FW|     AGUERO Sergio|    AGÜERO|Manchester City F...|   172|  74| 02| 06|1988|     1988-06-02|  17|\n",
            "|Argentina|     8|     DF|      ACUNA Marcos|     ACUÑA|   Sporting CP (POR)|   172|  77| 28| 10|1991|     1991-10-28|  17|\n",
            "|Argentina|    10|     FW|      MESSI Lionel|     MESSI|  FC Barcelona (ESP)|   170|  72| 24| 06|1987|     1987-06-24|  19|\n",
            "|Argentina|     3|     DF|TAGLIAFICO Nicolas|TAGLIAFICO|      AFC Ajax (NED)|   169|  65| 31| 08|1992|     1992-08-31|  20|\n",
            "|Argentina|    22|     MF|    PAVON Cristian|     PAVÓN|CA Boca Juniors (...|   169|  65| 21| 01|1996|     1996-01-21|  20|\n",
            "|Argentina|    15|     MF|    LANZINI Manuel|   LANZINI|West Ham United F...|   167|  66| 15| 02|1993|     1993-02-15|  22|\n",
            "|Argentina|    18|     DF|    SALVIO Eduardo|    SALVIO|    SL Benfica (POR)|   167|  69| 13| 07|1990|     1990-07-13|  22|\n",
            "|Australia|    12|     GK|        JONES Brad|     JONES|Feyenoord Rotterd...|   193|  87| 19| 03|1982|     1982-03-19|   1|\n",
            "|Australia|     9|     FW|        JURIC Tomi|     JURIC|     FC Luzern (SUI)|   190|  80| 22| 07|1991|     1991-07-22|   2|\n",
            "|Australia|     6|     DF|    JURMAN Matthew|    JURMAN|Suwon Samsung Blu...|   190|  83| 08| 12|1989|     1989-12-08|   2|\n",
            "|Australia|    23|     MF|         ROGIC Tom|     ROGIC|     Celtic FC (SCO)|   189|  88| 16| 12|1992|     1992-12-16|   4|\n",
            "|Australia|    15|     MF|      JEDINAK Mile|   JEDINAK|Aston Villa FC (ENG)|   188|  78| 03| 08|1984|     1984-08-03|   5|\n",
            "|Australia|     2|     DF|     DEGENEK Milos|   DEGENEK|Yokohama F-Marino...|   187|  85| 28| 04|1994|     1994-04-28|   6|\n",
            "|Australia|    18|     GK|     VUKOVIC Danny|   VUKOVIC|      KRC Genk (BEL)|   187|  94| 27| 03|1985|     1985-03-27|   6|\n",
            "|Australia|     1|     GK|       RYAN Mathew|      RYAN|Brighton & Hove A...|   184|  82| 08| 04|1992|     1992-04-08|   8|\n",
            "|Australia|    20|     DF|   SAINSBURY Trent| SAINSBURY|Grasshopper Club ...|   183|  76| 05| 01|1992|     1992-01-05|   9|\n",
            "|Australia|     7|     FW|     LECKIE Mathew|    LECKIE|    Hertha BSC (GER)|   181|  84| 04| 02|1991|     1991-02-04|  10|\n",
            "|Australia|    10|     FW|      KRUSE Robbie|     KRUSE|    VfL Bochum (GER)|   180|  66| 05| 10|1988|     1988-10-05|  11|\n",
            "|Australia|     4|     FW|        CAHILL Tim|    CAHILL|   Millwall FC (ENG)|   180|  76| 06| 12|1979|     1979-12-06|  11|\n",
            "|Australia|    22|     MF|    IRVINE Jackson|    IRVINE|  Hull City FC (ENG)|   180|  77| 07| 03|1993|     1993-03-07|  11|\n",
            "|Australia|     3|     DF|    MEREDITH James|  MEREDITH|   Millwall FC (ENG)|   179|  71| 05| 04|1988|     1988-04-05|  14|\n",
            "|Australia|    14|     FW|    MacLAREN Jamie|  MACLAREN|  Hibernian FC (SCO)|   178|  72| 29| 07|1993|     1993-07-29|  15|\n",
            "|Australia|     5|     DF|     MILLIGAN Mark|  MILLIGAN|    Al Ahli SC (KSA)|   178|  78| 04| 08|1985|     1985-08-04|  15|\n",
            "|Australia|    11|     FW|    NABBOUT Andrew|   NABBOUT|    Urawa Reds (JPN)|   178|  85| 17| 12|1992|     1992-12-17|  15|\n",
            "|Australia|    21|     FW|PETRATOS Dimitrios|  PETRATOS|Newcastle United ...|   176|  72| 10| 11|1992|     1992-11-10|  18|\n",
            "|Australia|     8|     MF|    LUONGO Massimo|    LUONGO|Queens Park Range...|   176|  76| 25| 09|1992|     1992-09-25|  18|\n",
            "|Australia|    13|     MF|        MOOY Aaron|      MOOY|Huddersfield Town...|   173|  72| 15| 09|1990|     1990-09-15|  20|\n",
            "|Australia|    17|     FW|     ARZANI Daniel|    ARZANI|Melbourne City FC...|   171|  73| 04| 01|1999|     1999-01-04|  21|\n",
            "|Australia|    16|     DF|       BEHICH Aziz|    BEHICH|     Bursaspor (TUR)|   170|  63| 16| 12|1990|     1990-12-16|  22|\n",
            "|Australia|    19|     DF|     RISDON Joshua|    RISDON|WS Wanderers FC (...|   169|  70| 27| 07|1992|     1992-07-27|  23|\n",
            "|  Belgium|     1|     GK|  COURTOIS Thibaut|  COURTOIS|    Chelsea FC (ENG)|   199|  91| 11| 05|1992|     1992-05-11|   1|\n",
            "|  Belgium|    13|     GK|     CASTEELS Koen|  CASTEELS| VfL Wolfsburg (GER)|   197|  86| 25| 06|1992|     1992-06-25|   2|\n",
            "|  Belgium|     8|     MF| FELLAINI Marouane|  FELLAINI|Manchester United...|   194|  85| 22| 11|1987|     1987-11-22|   3|\n",
            "|  Belgium|    12|     GK|    MIGNOLET Simon|  MIGNOLET|  Liverpool FC (ENG)|   193|  87| 06| 03|1988|     1988-03-06|   4|\n",
            "+---------+------+-------+------------------+----------+--------------------+------+----+---+---+----+---------------+----+\n",
            "only showing top 50 rows\n",
            "\n"
          ]
        }
      ]
    },
    {
      "cell_type": "code",
      "source": [
        "rank2 = Window.partitionBy('Selecao').orderBy(desc('Ano'))\n",
        "df.withColumn('rank',dense_rank().over(rank2)).show(50)"
      ],
      "metadata": {
        "colab": {
          "base_uri": "https://localhost:8080/"
        },
        "id": "EBiD4-DBzGPr",
        "outputId": "9fbed957-46f0-48e3-df92-8d8d32ff5d7a"
      },
      "execution_count": 17,
      "outputs": [
        {
          "output_type": "stream",
          "name": "stdout",
          "text": [
            "+---------+------+-------+------------------+----------+--------------------+------+----+---+---+----+---------------+----+\n",
            "|  Selecao|Numero|Posicao|         Nome_FIFA|    Camisa|                Time|Altura|Peso|Dia|Mes| Ano|Data_Nascimento|rank|\n",
            "+---------+------+-------+------------------+----------+--------------------+------+----+---+---+----+---------------+----+\n",
            "|Argentina|    22|     MF|    PAVON Cristian|     PAVÓN|CA Boca Juniors (...|   169|  65| 21| 01|1996|     1996-01-21|   1|\n",
            "|Argentina|    20|     MF|  LO CELSO Giovani|  LO CELSO|Paris Saint-Germa...|   177|  75| 09| 04|1996|     1996-04-09|   1|\n",
            "|Argentina|    15|     MF|    LANZINI Manuel|   LANZINI|West Ham United F...|   167|  66| 15| 02|1993|     1993-02-15|   2|\n",
            "|Argentina|    21|     FW|      DYBALA Paulo|    DYBALA|   Juventus FC (ITA)|   177|  73| 15| 11|1993|     1993-11-15|   2|\n",
            "|Argentina|     3|     DF|TAGLIAFICO Nicolas|TAGLIAFICO|      AFC Ajax (NED)|   169|  65| 31| 08|1992|     1992-08-31|   3|\n",
            "|Argentina|    13|     MF|  MEZA Maximiliano|      MEZA|CA Independiente ...|   180|  76| 15| 12|1992|     1992-12-15|   3|\n",
            "|Argentina|     8|     DF|      ACUNA Marcos|     ACUÑA|   Sporting CP (POR)|   172|  77| 28| 10|1991|     1991-10-28|   4|\n",
            "|Argentina|    18|     DF|    SALVIO Eduardo|    SALVIO|    SL Benfica (POR)|   167|  69| 13| 07|1990|     1990-07-13|   5|\n",
            "|Argentina|    16|     DF|       ROJO Marcos|      ROJO|Manchester United...|   189|  82| 20| 03|1990|     1990-03-20|   5|\n",
            "|Argentina|     7|     MF|       BANEGA Ever|    BANEGA|    Sevilla FC (ESP)|   175|  73| 29| 06|1988|     1988-06-29|   6|\n",
            "|Argentina|    19|     FW|     AGUERO Sergio|    AGÜERO|Manchester City F...|   172|  74| 02| 06|1988|     1988-06-02|   6|\n",
            "|Argentina|    11|     MF|    DI MARIA Angel|  DI MARÍA|Paris Saint-Germa...|   178|  75| 14| 02|1988|     1988-02-14|   6|\n",
            "|Argentina|    17|     DF|  OTAMENDI Nicolas|  OTAMENDI|Manchester City F...|   181|  81| 12| 02|1988|     1988-02-12|   6|\n",
            "|Argentina|    10|     FW|      MESSI Lionel|     MESSI|  FC Barcelona (ESP)|   170|  72| 24| 06|1987|     1987-06-24|   7|\n",
            "|Argentina|     9|     FW|   HIGUAIN Gonzalo|   HIGUAÍN|   Juventus FC (ITA)|   184|  75| 10| 12|1987|     1987-12-10|   7|\n",
            "|Argentina|     2|     DF|   MERCADO Gabriel|   MERCADO|    Sevilla FC (ESP)|   181|  81| 18| 03|1987|     1987-03-18|   7|\n",
            "|Argentina|     6|     DF|    FAZIO Federico|     FAZIO|       AS Roma (ITA)|   199|  85| 17| 03|1987|     1987-03-17|   7|\n",
            "|Argentina|     4|     DF|  ANSALDI Cristian|   ANSALDI|     Torino FC (ITA)|   181|  73| 20| 09|1986|     1986-09-20|   8|\n",
            "|Argentina|     5|     MF|      BIGLIA Lucas|    BIGLIA|      AC Milan (ITA)|   175|  73| 30| 01|1986|     1986-01-30|   8|\n",
            "|Argentina|    12|     GK|     ARMANI Franco|    ARMANI|CA River Plate (ARG)|   189|  85| 16| 10|1986|     1986-10-16|   8|\n",
            "|Argentina|     1|     GK|     GUZMAN Nahuel|    GUZMÁN|   Tigres UANL (MEX)|   192|  90| 10| 02|1986|     1986-02-10|   8|\n",
            "|Argentina|    14|     DF| MASCHERANO Javier|MASCHERANO|Hebei China Fortu...|   174|  73| 08| 06|1984|     1984-06-08|   9|\n",
            "|Argentina|    23|     GK|CABALLERO Wilfredo| CABALLERO|    Chelsea FC (ENG)|   186|  80| 28| 09|1981|     1981-09-28|  10|\n",
            "|Australia|    17|     FW|     ARZANI Daniel|    ARZANI|Melbourne City FC...|   171|  73| 04| 01|1999|     1999-01-04|   1|\n",
            "|Australia|     2|     DF|     DEGENEK Milos|   DEGENEK|Yokohama F-Marino...|   187|  85| 28| 04|1994|     1994-04-28|   2|\n",
            "|Australia|    14|     FW|    MacLAREN Jamie|  MACLAREN|  Hibernian FC (SCO)|   178|  72| 29| 07|1993|     1993-07-29|   3|\n",
            "|Australia|    22|     MF|    IRVINE Jackson|    IRVINE|  Hull City FC (ENG)|   180|  77| 07| 03|1993|     1993-03-07|   3|\n",
            "|Australia|    19|     DF|     RISDON Joshua|    RISDON|WS Wanderers FC (...|   169|  70| 27| 07|1992|     1992-07-27|   4|\n",
            "|Australia|    21|     FW|PETRATOS Dimitrios|  PETRATOS|Newcastle United ...|   176|  72| 10| 11|1992|     1992-11-10|   4|\n",
            "|Australia|     8|     MF|    LUONGO Massimo|    LUONGO|Queens Park Range...|   176|  76| 25| 09|1992|     1992-09-25|   4|\n",
            "|Australia|    20|     DF|   SAINSBURY Trent| SAINSBURY|Grasshopper Club ...|   183|  76| 05| 01|1992|     1992-01-05|   4|\n",
            "|Australia|     1|     GK|       RYAN Mathew|      RYAN|Brighton & Hove A...|   184|  82| 08| 04|1992|     1992-04-08|   4|\n",
            "|Australia|    11|     FW|    NABBOUT Andrew|   NABBOUT|    Urawa Reds (JPN)|   178|  85| 17| 12|1992|     1992-12-17|   4|\n",
            "|Australia|    23|     MF|         ROGIC Tom|     ROGIC|     Celtic FC (SCO)|   189|  88| 16| 12|1992|     1992-12-16|   4|\n",
            "|Australia|     9|     FW|        JURIC Tomi|     JURIC|     FC Luzern (SUI)|   190|  80| 22| 07|1991|     1991-07-22|   5|\n",
            "|Australia|     7|     FW|     LECKIE Mathew|    LECKIE|    Hertha BSC (GER)|   181|  84| 04| 02|1991|     1991-02-04|   5|\n",
            "|Australia|    16|     DF|       BEHICH Aziz|    BEHICH|     Bursaspor (TUR)|   170|  63| 16| 12|1990|     1990-12-16|   6|\n",
            "|Australia|    13|     MF|        MOOY Aaron|      MOOY|Huddersfield Town...|   173|  72| 15| 09|1990|     1990-09-15|   6|\n",
            "|Australia|     6|     DF|    JURMAN Matthew|    JURMAN|Suwon Samsung Blu...|   190|  83| 08| 12|1989|     1989-12-08|   7|\n",
            "|Australia|    10|     FW|      KRUSE Robbie|     KRUSE|    VfL Bochum (GER)|   180|  66| 05| 10|1988|     1988-10-05|   8|\n",
            "|Australia|     3|     DF|    MEREDITH James|  MEREDITH|   Millwall FC (ENG)|   179|  71| 05| 04|1988|     1988-04-05|   8|\n",
            "|Australia|     5|     DF|     MILLIGAN Mark|  MILLIGAN|    Al Ahli SC (KSA)|   178|  78| 04| 08|1985|     1985-08-04|   9|\n",
            "|Australia|    18|     GK|     VUKOVIC Danny|   VUKOVIC|      KRC Genk (BEL)|   187|  94| 27| 03|1985|     1985-03-27|   9|\n",
            "|Australia|    15|     MF|      JEDINAK Mile|   JEDINAK|Aston Villa FC (ENG)|   188|  78| 03| 08|1984|     1984-08-03|  10|\n",
            "|Australia|    12|     GK|        JONES Brad|     JONES|Feyenoord Rotterd...|   193|  87| 19| 03|1982|     1982-03-19|  11|\n",
            "|Australia|     4|     FW|        CAHILL Tim|    CAHILL|   Millwall FC (ENG)|   180|  76| 06| 12|1979|     1979-12-06|  12|\n",
            "|  Belgium|    17|     MF|   TIELEMANS Youri| TIELEMANS|     AS Monaco (FRA)|   176|  72| 07| 05|1997|     1997-05-07|   1|\n",
            "|  Belgium|    18|     FW|     JANUZAJ Adnan|   JANUZAJ| Real Sociedad (ESP)|   180|  75| 05| 02|1995|     1995-02-05|   2|\n",
            "|  Belgium|    23|     DF|DENDONCKER Leander|DENDONCKER|RSC Anderlecht (BEL)|   188|  76| 15| 04|1995|     1995-04-15|   2|\n",
            "|  Belgium|    11|     MF|  CARRASCO Yannick|  CARRASCO|Dalian Yifang FC ...|   180|  67| 04| 09|1993|     1993-09-04|   3|\n",
            "+---------+------+-------+------------------+----------+--------------------+------+----+---+---+----+---------------+----+\n",
            "only showing top 50 rows\n",
            "\n"
          ]
        }
      ]
    },
    {
      "cell_type": "markdown",
      "source": [
        "Window Function 4  Porcentagem e Rangking - percentent_rangk"
      ],
      "metadata": {
        "id": "zSb9i_7xdYpU"
      }
    },
    {
      "cell_type": "code",
      "source": [
        "porcentagem = Window.partitionBy('Selecao').orderBy(desc('Altura'))\n",
        "df.withColumn('porcentagem', percent_rank().over(porcentagem)).show(50)\n"
      ],
      "metadata": {
        "colab": {
          "base_uri": "https://localhost:8080/"
        },
        "id": "nk5h2SoX3BS_",
        "outputId": "4cf6c798-755c-4ec7-a9cb-5241bef0ca15"
      },
      "execution_count": 18,
      "outputs": [
        {
          "output_type": "stream",
          "name": "stdout",
          "text": [
            "+---------+------+-------+------------------+----------+--------------------+------+----+---+---+----+---------------+--------------------+\n",
            "|  Selecao|Numero|Posicao|         Nome_FIFA|    Camisa|                Time|Altura|Peso|Dia|Mes| Ano|Data_Nascimento|         porcentagem|\n",
            "+---------+------+-------+------------------+----------+--------------------+------+----+---+---+----+---------------+--------------------+\n",
            "|Argentina|     6|     DF|    FAZIO Federico|     FAZIO|       AS Roma (ITA)|   199|  85| 17| 03|1987|     1987-03-17|                 0.0|\n",
            "|Argentina|     1|     GK|     GUZMAN Nahuel|    GUZMÁN|   Tigres UANL (MEX)|   192|  90| 10| 02|1986|     1986-02-10|0.045454545454545456|\n",
            "|Argentina|    16|     DF|       ROJO Marcos|      ROJO|Manchester United...|   189|  82| 20| 03|1990|     1990-03-20| 0.09090909090909091|\n",
            "|Argentina|    12|     GK|     ARMANI Franco|    ARMANI|CA River Plate (ARG)|   189|  85| 16| 10|1986|     1986-10-16| 0.09090909090909091|\n",
            "|Argentina|    23|     GK|CABALLERO Wilfredo| CABALLERO|    Chelsea FC (ENG)|   186|  80| 28| 09|1981|     1981-09-28| 0.18181818181818182|\n",
            "|Argentina|     9|     FW|   HIGUAIN Gonzalo|   HIGUAÍN|   Juventus FC (ITA)|   184|  75| 10| 12|1987|     1987-12-10| 0.22727272727272727|\n",
            "|Argentina|     4|     DF|  ANSALDI Cristian|   ANSALDI|     Torino FC (ITA)|   181|  73| 20| 09|1986|     1986-09-20|  0.2727272727272727|\n",
            "|Argentina|     2|     DF|   MERCADO Gabriel|   MERCADO|    Sevilla FC (ESP)|   181|  81| 18| 03|1987|     1987-03-18|  0.2727272727272727|\n",
            "|Argentina|    17|     DF|  OTAMENDI Nicolas|  OTAMENDI|Manchester City F...|   181|  81| 12| 02|1988|     1988-02-12|  0.2727272727272727|\n",
            "|Argentina|    13|     MF|  MEZA Maximiliano|      MEZA|CA Independiente ...|   180|  76| 15| 12|1992|     1992-12-15|  0.4090909090909091|\n",
            "|Argentina|    11|     MF|    DI MARIA Angel|  DI MARÍA|Paris Saint-Germa...|   178|  75| 14| 02|1988|     1988-02-14| 0.45454545454545453|\n",
            "|Argentina|    21|     FW|      DYBALA Paulo|    DYBALA|   Juventus FC (ITA)|   177|  73| 15| 11|1993|     1993-11-15|                 0.5|\n",
            "|Argentina|    20|     MF|  LO CELSO Giovani|  LO CELSO|Paris Saint-Germa...|   177|  75| 09| 04|1996|     1996-04-09|                 0.5|\n",
            "|Argentina|     5|     MF|      BIGLIA Lucas|    BIGLIA|      AC Milan (ITA)|   175|  73| 30| 01|1986|     1986-01-30|  0.5909090909090909|\n",
            "|Argentina|     7|     MF|       BANEGA Ever|    BANEGA|    Sevilla FC (ESP)|   175|  73| 29| 06|1988|     1988-06-29|  0.5909090909090909|\n",
            "|Argentina|    14|     DF| MASCHERANO Javier|MASCHERANO|Hebei China Fortu...|   174|  73| 08| 06|1984|     1984-06-08|  0.6818181818181818|\n",
            "|Argentina|    19|     FW|     AGUERO Sergio|    AGÜERO|Manchester City F...|   172|  74| 02| 06|1988|     1988-06-02|  0.7272727272727273|\n",
            "|Argentina|     8|     DF|      ACUNA Marcos|     ACUÑA|   Sporting CP (POR)|   172|  77| 28| 10|1991|     1991-10-28|  0.7272727272727273|\n",
            "|Argentina|    10|     FW|      MESSI Lionel|     MESSI|  FC Barcelona (ESP)|   170|  72| 24| 06|1987|     1987-06-24|  0.8181818181818182|\n",
            "|Argentina|     3|     DF|TAGLIAFICO Nicolas|TAGLIAFICO|      AFC Ajax (NED)|   169|  65| 31| 08|1992|     1992-08-31|  0.8636363636363636|\n",
            "|Argentina|    22|     MF|    PAVON Cristian|     PAVÓN|CA Boca Juniors (...|   169|  65| 21| 01|1996|     1996-01-21|  0.8636363636363636|\n",
            "|Argentina|    15|     MF|    LANZINI Manuel|   LANZINI|West Ham United F...|   167|  66| 15| 02|1993|     1993-02-15|  0.9545454545454546|\n",
            "|Argentina|    18|     DF|    SALVIO Eduardo|    SALVIO|    SL Benfica (POR)|   167|  69| 13| 07|1990|     1990-07-13|  0.9545454545454546|\n",
            "|Australia|    12|     GK|        JONES Brad|     JONES|Feyenoord Rotterd...|   193|  87| 19| 03|1982|     1982-03-19|                 0.0|\n",
            "|Australia|     9|     FW|        JURIC Tomi|     JURIC|     FC Luzern (SUI)|   190|  80| 22| 07|1991|     1991-07-22|0.045454545454545456|\n",
            "|Australia|     6|     DF|    JURMAN Matthew|    JURMAN|Suwon Samsung Blu...|   190|  83| 08| 12|1989|     1989-12-08|0.045454545454545456|\n",
            "|Australia|    23|     MF|         ROGIC Tom|     ROGIC|     Celtic FC (SCO)|   189|  88| 16| 12|1992|     1992-12-16| 0.13636363636363635|\n",
            "|Australia|    15|     MF|      JEDINAK Mile|   JEDINAK|Aston Villa FC (ENG)|   188|  78| 03| 08|1984|     1984-08-03| 0.18181818181818182|\n",
            "|Australia|     2|     DF|     DEGENEK Milos|   DEGENEK|Yokohama F-Marino...|   187|  85| 28| 04|1994|     1994-04-28| 0.22727272727272727|\n",
            "|Australia|    18|     GK|     VUKOVIC Danny|   VUKOVIC|      KRC Genk (BEL)|   187|  94| 27| 03|1985|     1985-03-27| 0.22727272727272727|\n",
            "|Australia|     1|     GK|       RYAN Mathew|      RYAN|Brighton & Hove A...|   184|  82| 08| 04|1992|     1992-04-08|  0.3181818181818182|\n",
            "|Australia|    20|     DF|   SAINSBURY Trent| SAINSBURY|Grasshopper Club ...|   183|  76| 05| 01|1992|     1992-01-05| 0.36363636363636365|\n",
            "|Australia|     7|     FW|     LECKIE Mathew|    LECKIE|    Hertha BSC (GER)|   181|  84| 04| 02|1991|     1991-02-04|  0.4090909090909091|\n",
            "|Australia|    10|     FW|      KRUSE Robbie|     KRUSE|    VfL Bochum (GER)|   180|  66| 05| 10|1988|     1988-10-05| 0.45454545454545453|\n",
            "|Australia|     4|     FW|        CAHILL Tim|    CAHILL|   Millwall FC (ENG)|   180|  76| 06| 12|1979|     1979-12-06| 0.45454545454545453|\n",
            "|Australia|    22|     MF|    IRVINE Jackson|    IRVINE|  Hull City FC (ENG)|   180|  77| 07| 03|1993|     1993-03-07| 0.45454545454545453|\n",
            "|Australia|     3|     DF|    MEREDITH James|  MEREDITH|   Millwall FC (ENG)|   179|  71| 05| 04|1988|     1988-04-05|  0.5909090909090909|\n",
            "|Australia|    14|     FW|    MacLAREN Jamie|  MACLAREN|  Hibernian FC (SCO)|   178|  72| 29| 07|1993|     1993-07-29|  0.6363636363636364|\n",
            "|Australia|     5|     DF|     MILLIGAN Mark|  MILLIGAN|    Al Ahli SC (KSA)|   178|  78| 04| 08|1985|     1985-08-04|  0.6363636363636364|\n",
            "|Australia|    11|     FW|    NABBOUT Andrew|   NABBOUT|    Urawa Reds (JPN)|   178|  85| 17| 12|1992|     1992-12-17|  0.6363636363636364|\n",
            "|Australia|    21|     FW|PETRATOS Dimitrios|  PETRATOS|Newcastle United ...|   176|  72| 10| 11|1992|     1992-11-10|  0.7727272727272727|\n",
            "|Australia|     8|     MF|    LUONGO Massimo|    LUONGO|Queens Park Range...|   176|  76| 25| 09|1992|     1992-09-25|  0.7727272727272727|\n",
            "|Australia|    13|     MF|        MOOY Aaron|      MOOY|Huddersfield Town...|   173|  72| 15| 09|1990|     1990-09-15|  0.8636363636363636|\n",
            "|Australia|    17|     FW|     ARZANI Daniel|    ARZANI|Melbourne City FC...|   171|  73| 04| 01|1999|     1999-01-04|  0.9090909090909091|\n",
            "|Australia|    16|     DF|       BEHICH Aziz|    BEHICH|     Bursaspor (TUR)|   170|  63| 16| 12|1990|     1990-12-16|  0.9545454545454546|\n",
            "|Australia|    19|     DF|     RISDON Joshua|    RISDON|WS Wanderers FC (...|   169|  70| 27| 07|1992|     1992-07-27|                 1.0|\n",
            "|  Belgium|     1|     GK|  COURTOIS Thibaut|  COURTOIS|    Chelsea FC (ENG)|   199|  91| 11| 05|1992|     1992-05-11|                 0.0|\n",
            "|  Belgium|    13|     GK|     CASTEELS Koen|  CASTEELS| VfL Wolfsburg (GER)|   197|  86| 25| 06|1992|     1992-06-25|0.045454545454545456|\n",
            "|  Belgium|     8|     MF| FELLAINI Marouane|  FELLAINI|Manchester United...|   194|  85| 22| 11|1987|     1987-11-22| 0.09090909090909091|\n",
            "|  Belgium|    12|     GK|    MIGNOLET Simon|  MIGNOLET|  Liverpool FC (ENG)|   193|  87| 06| 03|1988|     1988-03-06| 0.13636363636363635|\n",
            "+---------+------+-------+------------------+----------+--------------------+------+----+---+---+----+---------------+--------------------+\n",
            "only showing top 50 rows\n",
            "\n"
          ]
        }
      ]
    },
    {
      "cell_type": "markdown",
      "source": [
        "Eindow Function  5- Divisão em \"N\" partes - ntile()\n",
        "\n",
        "---\n",
        "Essa função é boa para agrupar em grupos, no caso abaixo, vamos dividir os grupos por alturas. Como aqi, nós pegamos 5 partes dentro do ntile , a gente vai colher elees quebrados em 5 partes\n",
        "\n"
      ],
      "metadata": {
        "id": "rNzpvTdyd5TU"
      }
    },
    {
      "cell_type": "code",
      "source": [
        "\n",
        "parte = Window.partitionBy('Selecao').orderBy(desc('Altura'))\n",
        "df.withColumn('Par',ntile(5).over(parte)).show(50)"
      ],
      "metadata": {
        "colab": {
          "base_uri": "https://localhost:8080/"
        },
        "id": "IZ8AYBCtdgPp",
        "outputId": "279a5051-628d-4ca7-ae20-c956f39cf812"
      },
      "execution_count": 25,
      "outputs": [
        {
          "output_type": "stream",
          "name": "stdout",
          "text": [
            "+---------+------+-------+------------------+----------+--------------------+------+----+---+---+----+---------------+---+\n",
            "|  Selecao|Numero|Posicao|         Nome_FIFA|    Camisa|                Time|Altura|Peso|Dia|Mes| Ano|Data_Nascimento|Par|\n",
            "+---------+------+-------+------------------+----------+--------------------+------+----+---+---+----+---------------+---+\n",
            "|Argentina|     6|     DF|    FAZIO Federico|     FAZIO|       AS Roma (ITA)|   199|  85| 17| 03|1987|     1987-03-17|  1|\n",
            "|Argentina|     1|     GK|     GUZMAN Nahuel|    GUZMÁN|   Tigres UANL (MEX)|   192|  90| 10| 02|1986|     1986-02-10|  1|\n",
            "|Argentina|    16|     DF|       ROJO Marcos|      ROJO|Manchester United...|   189|  82| 20| 03|1990|     1990-03-20|  1|\n",
            "|Argentina|    12|     GK|     ARMANI Franco|    ARMANI|CA River Plate (ARG)|   189|  85| 16| 10|1986|     1986-10-16|  1|\n",
            "|Argentina|    23|     GK|CABALLERO Wilfredo| CABALLERO|    Chelsea FC (ENG)|   186|  80| 28| 09|1981|     1981-09-28|  1|\n",
            "|Argentina|     9|     FW|   HIGUAIN Gonzalo|   HIGUAÍN|   Juventus FC (ITA)|   184|  75| 10| 12|1987|     1987-12-10|  2|\n",
            "|Argentina|     4|     DF|  ANSALDI Cristian|   ANSALDI|     Torino FC (ITA)|   181|  73| 20| 09|1986|     1986-09-20|  2|\n",
            "|Argentina|     2|     DF|   MERCADO Gabriel|   MERCADO|    Sevilla FC (ESP)|   181|  81| 18| 03|1987|     1987-03-18|  2|\n",
            "|Argentina|    17|     DF|  OTAMENDI Nicolas|  OTAMENDI|Manchester City F...|   181|  81| 12| 02|1988|     1988-02-12|  2|\n",
            "|Argentina|    13|     MF|  MEZA Maximiliano|      MEZA|CA Independiente ...|   180|  76| 15| 12|1992|     1992-12-15|  2|\n",
            "|Argentina|    11|     MF|    DI MARIA Angel|  DI MARÍA|Paris Saint-Germa...|   178|  75| 14| 02|1988|     1988-02-14|  3|\n",
            "|Argentina|    21|     FW|      DYBALA Paulo|    DYBALA|   Juventus FC (ITA)|   177|  73| 15| 11|1993|     1993-11-15|  3|\n",
            "|Argentina|    20|     MF|  LO CELSO Giovani|  LO CELSO|Paris Saint-Germa...|   177|  75| 09| 04|1996|     1996-04-09|  3|\n",
            "|Argentina|     5|     MF|      BIGLIA Lucas|    BIGLIA|      AC Milan (ITA)|   175|  73| 30| 01|1986|     1986-01-30|  3|\n",
            "|Argentina|     7|     MF|       BANEGA Ever|    BANEGA|    Sevilla FC (ESP)|   175|  73| 29| 06|1988|     1988-06-29|  3|\n",
            "|Argentina|    14|     DF| MASCHERANO Javier|MASCHERANO|Hebei China Fortu...|   174|  73| 08| 06|1984|     1984-06-08|  4|\n",
            "|Argentina|    19|     FW|     AGUERO Sergio|    AGÜERO|Manchester City F...|   172|  74| 02| 06|1988|     1988-06-02|  4|\n",
            "|Argentina|     8|     DF|      ACUNA Marcos|     ACUÑA|   Sporting CP (POR)|   172|  77| 28| 10|1991|     1991-10-28|  4|\n",
            "|Argentina|    10|     FW|      MESSI Lionel|     MESSI|  FC Barcelona (ESP)|   170|  72| 24| 06|1987|     1987-06-24|  4|\n",
            "|Argentina|     3|     DF|TAGLIAFICO Nicolas|TAGLIAFICO|      AFC Ajax (NED)|   169|  65| 31| 08|1992|     1992-08-31|  5|\n",
            "|Argentina|    22|     MF|    PAVON Cristian|     PAVÓN|CA Boca Juniors (...|   169|  65| 21| 01|1996|     1996-01-21|  5|\n",
            "|Argentina|    15|     MF|    LANZINI Manuel|   LANZINI|West Ham United F...|   167|  66| 15| 02|1993|     1993-02-15|  5|\n",
            "|Argentina|    18|     DF|    SALVIO Eduardo|    SALVIO|    SL Benfica (POR)|   167|  69| 13| 07|1990|     1990-07-13|  5|\n",
            "|Australia|    12|     GK|        JONES Brad|     JONES|Feyenoord Rotterd...|   193|  87| 19| 03|1982|     1982-03-19|  1|\n",
            "|Australia|     9|     FW|        JURIC Tomi|     JURIC|     FC Luzern (SUI)|   190|  80| 22| 07|1991|     1991-07-22|  1|\n",
            "|Australia|     6|     DF|    JURMAN Matthew|    JURMAN|Suwon Samsung Blu...|   190|  83| 08| 12|1989|     1989-12-08|  1|\n",
            "|Australia|    23|     MF|         ROGIC Tom|     ROGIC|     Celtic FC (SCO)|   189|  88| 16| 12|1992|     1992-12-16|  1|\n",
            "|Australia|    15|     MF|      JEDINAK Mile|   JEDINAK|Aston Villa FC (ENG)|   188|  78| 03| 08|1984|     1984-08-03|  1|\n",
            "|Australia|     2|     DF|     DEGENEK Milos|   DEGENEK|Yokohama F-Marino...|   187|  85| 28| 04|1994|     1994-04-28|  2|\n",
            "|Australia|    18|     GK|     VUKOVIC Danny|   VUKOVIC|      KRC Genk (BEL)|   187|  94| 27| 03|1985|     1985-03-27|  2|\n",
            "|Australia|     1|     GK|       RYAN Mathew|      RYAN|Brighton & Hove A...|   184|  82| 08| 04|1992|     1992-04-08|  2|\n",
            "|Australia|    20|     DF|   SAINSBURY Trent| SAINSBURY|Grasshopper Club ...|   183|  76| 05| 01|1992|     1992-01-05|  2|\n",
            "|Australia|     7|     FW|     LECKIE Mathew|    LECKIE|    Hertha BSC (GER)|   181|  84| 04| 02|1991|     1991-02-04|  2|\n",
            "|Australia|    10|     FW|      KRUSE Robbie|     KRUSE|    VfL Bochum (GER)|   180|  66| 05| 10|1988|     1988-10-05|  3|\n",
            "|Australia|     4|     FW|        CAHILL Tim|    CAHILL|   Millwall FC (ENG)|   180|  76| 06| 12|1979|     1979-12-06|  3|\n",
            "|Australia|    22|     MF|    IRVINE Jackson|    IRVINE|  Hull City FC (ENG)|   180|  77| 07| 03|1993|     1993-03-07|  3|\n",
            "|Australia|     3|     DF|    MEREDITH James|  MEREDITH|   Millwall FC (ENG)|   179|  71| 05| 04|1988|     1988-04-05|  3|\n",
            "|Australia|    14|     FW|    MacLAREN Jamie|  MACLAREN|  Hibernian FC (SCO)|   178|  72| 29| 07|1993|     1993-07-29|  3|\n",
            "|Australia|     5|     DF|     MILLIGAN Mark|  MILLIGAN|    Al Ahli SC (KSA)|   178|  78| 04| 08|1985|     1985-08-04|  4|\n",
            "|Australia|    11|     FW|    NABBOUT Andrew|   NABBOUT|    Urawa Reds (JPN)|   178|  85| 17| 12|1992|     1992-12-17|  4|\n",
            "|Australia|    21|     FW|PETRATOS Dimitrios|  PETRATOS|Newcastle United ...|   176|  72| 10| 11|1992|     1992-11-10|  4|\n",
            "|Australia|     8|     MF|    LUONGO Massimo|    LUONGO|Queens Park Range...|   176|  76| 25| 09|1992|     1992-09-25|  4|\n",
            "|Australia|    13|     MF|        MOOY Aaron|      MOOY|Huddersfield Town...|   173|  72| 15| 09|1990|     1990-09-15|  5|\n",
            "|Australia|    17|     FW|     ARZANI Daniel|    ARZANI|Melbourne City FC...|   171|  73| 04| 01|1999|     1999-01-04|  5|\n",
            "|Australia|    16|     DF|       BEHICH Aziz|    BEHICH|     Bursaspor (TUR)|   170|  63| 16| 12|1990|     1990-12-16|  5|\n",
            "|Australia|    19|     DF|     RISDON Joshua|    RISDON|WS Wanderers FC (...|   169|  70| 27| 07|1992|     1992-07-27|  5|\n",
            "|  Belgium|     1|     GK|  COURTOIS Thibaut|  COURTOIS|    Chelsea FC (ENG)|   199|  91| 11| 05|1992|     1992-05-11|  1|\n",
            "|  Belgium|    13|     GK|     CASTEELS Koen|  CASTEELS| VfL Wolfsburg (GER)|   197|  86| 25| 06|1992|     1992-06-25|  1|\n",
            "|  Belgium|     8|     MF| FELLAINI Marouane|  FELLAINI|Manchester United...|   194|  85| 22| 11|1987|     1987-11-22|  1|\n",
            "|  Belgium|    12|     GK|    MIGNOLET Simon|  MIGNOLET|  Liverpool FC (ENG)|   193|  87| 06| 03|1988|     1988-03-06|  1|\n",
            "+---------+------+-------+------------------+----------+--------------------+------+----+---+---+----+---------------+---+\n",
            "only showing top 50 rows\n",
            "\n"
          ]
        }
      ]
    },
    {
      "cell_type": "markdown",
      "source": [
        "Window analytic Functions ( Aqui, agora a gente entra em funções analíticas)\n"
      ],
      "metadata": {
        "id": "utyzAkD1gO0h"
      }
    },
    {
      "cell_type": "markdown",
      "source": [
        "Vamos começar com o Window Function Lag/Degrau -lead()\n"
      ],
      "metadata": {
        "id": "v24C9bLsgTVZ"
      }
    },
    {
      "cell_type": "code",
      "source": [
        "df = df.drop('Nome_FIFA')"
      ],
      "metadata": {
        "id": "NuEkvejOemWz"
      },
      "execution_count": 26,
      "outputs": []
    },
    {
      "cell_type": "code",
      "source": [
        "DEGRAU = Window.partitionBy('Selecao').orderBy(desc('Altura'))\n",
        "\n",
        "df.withColumn('degrau', lag('Peso').over(DEGRAU)).show(50)"
      ],
      "metadata": {
        "colab": {
          "base_uri": "https://localhost:8080/"
        },
        "id": "NDWMMcEogfh6",
        "outputId": "32ab7d1b-973e-4db3-c794-f1f67d092310"
      },
      "execution_count": 28,
      "outputs": [
        {
          "output_type": "stream",
          "name": "stdout",
          "text": [
            "+---------+------+-------+----------+--------------------+------+----+---+---+----+---------------+------+\n",
            "|  Selecao|Numero|Posicao|    Camisa|                Time|Altura|Peso|Dia|Mes| Ano|Data_Nascimento|degrau|\n",
            "+---------+------+-------+----------+--------------------+------+----+---+---+----+---------------+------+\n",
            "|Argentina|     6|     DF|     FAZIO|       AS Roma (ITA)|   199|  85| 17| 03|1987|     1987-03-17|  NULL|\n",
            "|Argentina|     1|     GK|    GUZMÁN|   Tigres UANL (MEX)|   192|  90| 10| 02|1986|     1986-02-10|    85|\n",
            "|Argentina|    16|     DF|      ROJO|Manchester United...|   189|  82| 20| 03|1990|     1990-03-20|    90|\n",
            "|Argentina|    12|     GK|    ARMANI|CA River Plate (ARG)|   189|  85| 16| 10|1986|     1986-10-16|    82|\n",
            "|Argentina|    23|     GK| CABALLERO|    Chelsea FC (ENG)|   186|  80| 28| 09|1981|     1981-09-28|    85|\n",
            "|Argentina|     9|     FW|   HIGUAÍN|   Juventus FC (ITA)|   184|  75| 10| 12|1987|     1987-12-10|    80|\n",
            "|Argentina|     4|     DF|   ANSALDI|     Torino FC (ITA)|   181|  73| 20| 09|1986|     1986-09-20|    75|\n",
            "|Argentina|     2|     DF|   MERCADO|    Sevilla FC (ESP)|   181|  81| 18| 03|1987|     1987-03-18|    73|\n",
            "|Argentina|    17|     DF|  OTAMENDI|Manchester City F...|   181|  81| 12| 02|1988|     1988-02-12|    81|\n",
            "|Argentina|    13|     MF|      MEZA|CA Independiente ...|   180|  76| 15| 12|1992|     1992-12-15|    81|\n",
            "|Argentina|    11|     MF|  DI MARÍA|Paris Saint-Germa...|   178|  75| 14| 02|1988|     1988-02-14|    76|\n",
            "|Argentina|    21|     FW|    DYBALA|   Juventus FC (ITA)|   177|  73| 15| 11|1993|     1993-11-15|    75|\n",
            "|Argentina|    20|     MF|  LO CELSO|Paris Saint-Germa...|   177|  75| 09| 04|1996|     1996-04-09|    73|\n",
            "|Argentina|     5|     MF|    BIGLIA|      AC Milan (ITA)|   175|  73| 30| 01|1986|     1986-01-30|    75|\n",
            "|Argentina|     7|     MF|    BANEGA|    Sevilla FC (ESP)|   175|  73| 29| 06|1988|     1988-06-29|    73|\n",
            "|Argentina|    14|     DF|MASCHERANO|Hebei China Fortu...|   174|  73| 08| 06|1984|     1984-06-08|    73|\n",
            "|Argentina|    19|     FW|    AGÜERO|Manchester City F...|   172|  74| 02| 06|1988|     1988-06-02|    73|\n",
            "|Argentina|     8|     DF|     ACUÑA|   Sporting CP (POR)|   172|  77| 28| 10|1991|     1991-10-28|    74|\n",
            "|Argentina|    10|     FW|     MESSI|  FC Barcelona (ESP)|   170|  72| 24| 06|1987|     1987-06-24|    77|\n",
            "|Argentina|     3|     DF|TAGLIAFICO|      AFC Ajax (NED)|   169|  65| 31| 08|1992|     1992-08-31|    72|\n",
            "|Argentina|    22|     MF|     PAVÓN|CA Boca Juniors (...|   169|  65| 21| 01|1996|     1996-01-21|    65|\n",
            "|Argentina|    15|     MF|   LANZINI|West Ham United F...|   167|  66| 15| 02|1993|     1993-02-15|    65|\n",
            "|Argentina|    18|     DF|    SALVIO|    SL Benfica (POR)|   167|  69| 13| 07|1990|     1990-07-13|    66|\n",
            "|Australia|    12|     GK|     JONES|Feyenoord Rotterd...|   193|  87| 19| 03|1982|     1982-03-19|  NULL|\n",
            "|Australia|     9|     FW|     JURIC|     FC Luzern (SUI)|   190|  80| 22| 07|1991|     1991-07-22|    87|\n",
            "|Australia|     6|     DF|    JURMAN|Suwon Samsung Blu...|   190|  83| 08| 12|1989|     1989-12-08|    80|\n",
            "|Australia|    23|     MF|     ROGIC|     Celtic FC (SCO)|   189|  88| 16| 12|1992|     1992-12-16|    83|\n",
            "|Australia|    15|     MF|   JEDINAK|Aston Villa FC (ENG)|   188|  78| 03| 08|1984|     1984-08-03|    88|\n",
            "|Australia|     2|     DF|   DEGENEK|Yokohama F-Marino...|   187|  85| 28| 04|1994|     1994-04-28|    78|\n",
            "|Australia|    18|     GK|   VUKOVIC|      KRC Genk (BEL)|   187|  94| 27| 03|1985|     1985-03-27|    85|\n",
            "|Australia|     1|     GK|      RYAN|Brighton & Hove A...|   184|  82| 08| 04|1992|     1992-04-08|    94|\n",
            "|Australia|    20|     DF| SAINSBURY|Grasshopper Club ...|   183|  76| 05| 01|1992|     1992-01-05|    82|\n",
            "|Australia|     7|     FW|    LECKIE|    Hertha BSC (GER)|   181|  84| 04| 02|1991|     1991-02-04|    76|\n",
            "|Australia|    10|     FW|     KRUSE|    VfL Bochum (GER)|   180|  66| 05| 10|1988|     1988-10-05|    84|\n",
            "|Australia|     4|     FW|    CAHILL|   Millwall FC (ENG)|   180|  76| 06| 12|1979|     1979-12-06|    66|\n",
            "|Australia|    22|     MF|    IRVINE|  Hull City FC (ENG)|   180|  77| 07| 03|1993|     1993-03-07|    76|\n",
            "|Australia|     3|     DF|  MEREDITH|   Millwall FC (ENG)|   179|  71| 05| 04|1988|     1988-04-05|    77|\n",
            "|Australia|    14|     FW|  MACLAREN|  Hibernian FC (SCO)|   178|  72| 29| 07|1993|     1993-07-29|    71|\n",
            "|Australia|     5|     DF|  MILLIGAN|    Al Ahli SC (KSA)|   178|  78| 04| 08|1985|     1985-08-04|    72|\n",
            "|Australia|    11|     FW|   NABBOUT|    Urawa Reds (JPN)|   178|  85| 17| 12|1992|     1992-12-17|    78|\n",
            "|Australia|    21|     FW|  PETRATOS|Newcastle United ...|   176|  72| 10| 11|1992|     1992-11-10|    85|\n",
            "|Australia|     8|     MF|    LUONGO|Queens Park Range...|   176|  76| 25| 09|1992|     1992-09-25|    72|\n",
            "|Australia|    13|     MF|      MOOY|Huddersfield Town...|   173|  72| 15| 09|1990|     1990-09-15|    76|\n",
            "|Australia|    17|     FW|    ARZANI|Melbourne City FC...|   171|  73| 04| 01|1999|     1999-01-04|    72|\n",
            "|Australia|    16|     DF|    BEHICH|     Bursaspor (TUR)|   170|  63| 16| 12|1990|     1990-12-16|    73|\n",
            "|Australia|    19|     DF|    RISDON|WS Wanderers FC (...|   169|  70| 27| 07|1992|     1992-07-27|    63|\n",
            "|  Belgium|     1|     GK|  COURTOIS|    Chelsea FC (ENG)|   199|  91| 11| 05|1992|     1992-05-11|  NULL|\n",
            "|  Belgium|    13|     GK|  CASTEELS| VfL Wolfsburg (GER)|   197|  86| 25| 06|1992|     1992-06-25|    91|\n",
            "|  Belgium|     8|     MF|  FELLAINI|Manchester United...|   194|  85| 22| 11|1987|     1987-11-22|    86|\n",
            "|  Belgium|    12|     GK|  MIGNOLET|  Liverpool FC (ENG)|   193|  87| 06| 03|1988|     1988-03-06|    85|\n",
            "+---------+------+-------+----------+--------------------+------+----+---+---+----+---------------+------+\n",
            "only showing top 50 rows\n",
            "\n"
          ]
        }
      ]
    },
    {
      "cell_type": "code",
      "source": [
        "DEGRAU = Window.partitionBy('Selecao').orderBy(desc('Altura'))\n",
        "\n",
        "df.withColumn('degrau', lag('Altura').over(DEGRAU)).show(50)"
      ],
      "metadata": {
        "colab": {
          "base_uri": "https://localhost:8080/"
        },
        "id": "TXR8cbAtgrxP",
        "outputId": "f652523d-d803-4711-f6ae-84e6301dd2ec"
      },
      "execution_count": 29,
      "outputs": [
        {
          "output_type": "stream",
          "name": "stdout",
          "text": [
            "+---------+------+-------+----------+--------------------+------+----+---+---+----+---------------+------+\n",
            "|  Selecao|Numero|Posicao|    Camisa|                Time|Altura|Peso|Dia|Mes| Ano|Data_Nascimento|degrau|\n",
            "+---------+------+-------+----------+--------------------+------+----+---+---+----+---------------+------+\n",
            "|Argentina|     6|     DF|     FAZIO|       AS Roma (ITA)|   199|  85| 17| 03|1987|     1987-03-17|  NULL|\n",
            "|Argentina|     1|     GK|    GUZMÁN|   Tigres UANL (MEX)|   192|  90| 10| 02|1986|     1986-02-10|   199|\n",
            "|Argentina|    16|     DF|      ROJO|Manchester United...|   189|  82| 20| 03|1990|     1990-03-20|   192|\n",
            "|Argentina|    12|     GK|    ARMANI|CA River Plate (ARG)|   189|  85| 16| 10|1986|     1986-10-16|   189|\n",
            "|Argentina|    23|     GK| CABALLERO|    Chelsea FC (ENG)|   186|  80| 28| 09|1981|     1981-09-28|   189|\n",
            "|Argentina|     9|     FW|   HIGUAÍN|   Juventus FC (ITA)|   184|  75| 10| 12|1987|     1987-12-10|   186|\n",
            "|Argentina|     4|     DF|   ANSALDI|     Torino FC (ITA)|   181|  73| 20| 09|1986|     1986-09-20|   184|\n",
            "|Argentina|     2|     DF|   MERCADO|    Sevilla FC (ESP)|   181|  81| 18| 03|1987|     1987-03-18|   181|\n",
            "|Argentina|    17|     DF|  OTAMENDI|Manchester City F...|   181|  81| 12| 02|1988|     1988-02-12|   181|\n",
            "|Argentina|    13|     MF|      MEZA|CA Independiente ...|   180|  76| 15| 12|1992|     1992-12-15|   181|\n",
            "|Argentina|    11|     MF|  DI MARÍA|Paris Saint-Germa...|   178|  75| 14| 02|1988|     1988-02-14|   180|\n",
            "|Argentina|    21|     FW|    DYBALA|   Juventus FC (ITA)|   177|  73| 15| 11|1993|     1993-11-15|   178|\n",
            "|Argentina|    20|     MF|  LO CELSO|Paris Saint-Germa...|   177|  75| 09| 04|1996|     1996-04-09|   177|\n",
            "|Argentina|     5|     MF|    BIGLIA|      AC Milan (ITA)|   175|  73| 30| 01|1986|     1986-01-30|   177|\n",
            "|Argentina|     7|     MF|    BANEGA|    Sevilla FC (ESP)|   175|  73| 29| 06|1988|     1988-06-29|   175|\n",
            "|Argentina|    14|     DF|MASCHERANO|Hebei China Fortu...|   174|  73| 08| 06|1984|     1984-06-08|   175|\n",
            "|Argentina|    19|     FW|    AGÜERO|Manchester City F...|   172|  74| 02| 06|1988|     1988-06-02|   174|\n",
            "|Argentina|     8|     DF|     ACUÑA|   Sporting CP (POR)|   172|  77| 28| 10|1991|     1991-10-28|   172|\n",
            "|Argentina|    10|     FW|     MESSI|  FC Barcelona (ESP)|   170|  72| 24| 06|1987|     1987-06-24|   172|\n",
            "|Argentina|     3|     DF|TAGLIAFICO|      AFC Ajax (NED)|   169|  65| 31| 08|1992|     1992-08-31|   170|\n",
            "|Argentina|    22|     MF|     PAVÓN|CA Boca Juniors (...|   169|  65| 21| 01|1996|     1996-01-21|   169|\n",
            "|Argentina|    15|     MF|   LANZINI|West Ham United F...|   167|  66| 15| 02|1993|     1993-02-15|   169|\n",
            "|Argentina|    18|     DF|    SALVIO|    SL Benfica (POR)|   167|  69| 13| 07|1990|     1990-07-13|   167|\n",
            "|Australia|    12|     GK|     JONES|Feyenoord Rotterd...|   193|  87| 19| 03|1982|     1982-03-19|  NULL|\n",
            "|Australia|     9|     FW|     JURIC|     FC Luzern (SUI)|   190|  80| 22| 07|1991|     1991-07-22|   193|\n",
            "|Australia|     6|     DF|    JURMAN|Suwon Samsung Blu...|   190|  83| 08| 12|1989|     1989-12-08|   190|\n",
            "|Australia|    23|     MF|     ROGIC|     Celtic FC (SCO)|   189|  88| 16| 12|1992|     1992-12-16|   190|\n",
            "|Australia|    15|     MF|   JEDINAK|Aston Villa FC (ENG)|   188|  78| 03| 08|1984|     1984-08-03|   189|\n",
            "|Australia|     2|     DF|   DEGENEK|Yokohama F-Marino...|   187|  85| 28| 04|1994|     1994-04-28|   188|\n",
            "|Australia|    18|     GK|   VUKOVIC|      KRC Genk (BEL)|   187|  94| 27| 03|1985|     1985-03-27|   187|\n",
            "|Australia|     1|     GK|      RYAN|Brighton & Hove A...|   184|  82| 08| 04|1992|     1992-04-08|   187|\n",
            "|Australia|    20|     DF| SAINSBURY|Grasshopper Club ...|   183|  76| 05| 01|1992|     1992-01-05|   184|\n",
            "|Australia|     7|     FW|    LECKIE|    Hertha BSC (GER)|   181|  84| 04| 02|1991|     1991-02-04|   183|\n",
            "|Australia|    10|     FW|     KRUSE|    VfL Bochum (GER)|   180|  66| 05| 10|1988|     1988-10-05|   181|\n",
            "|Australia|     4|     FW|    CAHILL|   Millwall FC (ENG)|   180|  76| 06| 12|1979|     1979-12-06|   180|\n",
            "|Australia|    22|     MF|    IRVINE|  Hull City FC (ENG)|   180|  77| 07| 03|1993|     1993-03-07|   180|\n",
            "|Australia|     3|     DF|  MEREDITH|   Millwall FC (ENG)|   179|  71| 05| 04|1988|     1988-04-05|   180|\n",
            "|Australia|    14|     FW|  MACLAREN|  Hibernian FC (SCO)|   178|  72| 29| 07|1993|     1993-07-29|   179|\n",
            "|Australia|     5|     DF|  MILLIGAN|    Al Ahli SC (KSA)|   178|  78| 04| 08|1985|     1985-08-04|   178|\n",
            "|Australia|    11|     FW|   NABBOUT|    Urawa Reds (JPN)|   178|  85| 17| 12|1992|     1992-12-17|   178|\n",
            "|Australia|    21|     FW|  PETRATOS|Newcastle United ...|   176|  72| 10| 11|1992|     1992-11-10|   178|\n",
            "|Australia|     8|     MF|    LUONGO|Queens Park Range...|   176|  76| 25| 09|1992|     1992-09-25|   176|\n",
            "|Australia|    13|     MF|      MOOY|Huddersfield Town...|   173|  72| 15| 09|1990|     1990-09-15|   176|\n",
            "|Australia|    17|     FW|    ARZANI|Melbourne City FC...|   171|  73| 04| 01|1999|     1999-01-04|   173|\n",
            "|Australia|    16|     DF|    BEHICH|     Bursaspor (TUR)|   170|  63| 16| 12|1990|     1990-12-16|   171|\n",
            "|Australia|    19|     DF|    RISDON|WS Wanderers FC (...|   169|  70| 27| 07|1992|     1992-07-27|   170|\n",
            "|  Belgium|     1|     GK|  COURTOIS|    Chelsea FC (ENG)|   199|  91| 11| 05|1992|     1992-05-11|  NULL|\n",
            "|  Belgium|    13|     GK|  CASTEELS| VfL Wolfsburg (GER)|   197|  86| 25| 06|1992|     1992-06-25|   199|\n",
            "|  Belgium|     8|     MF|  FELLAINI|Manchester United...|   194|  85| 22| 11|1987|     1987-11-22|   197|\n",
            "|  Belgium|    12|     GK|  MIGNOLET|  Liverpool FC (ENG)|   193|  87| 06| 03|1988|     1988-03-06|   194|\n",
            "+---------+------+-------+----------+--------------------+------+----+---+---+----+---------------+------+\n",
            "only showing top 50 rows\n",
            "\n"
          ]
        }
      ]
    },
    {
      "cell_type": "markdown",
      "source": [
        "O lead é exatamente o contrário do LAG\n"
      ],
      "metadata": {
        "id": "krWG6TzshptG"
      }
    },
    {
      "cell_type": "code",
      "source": [
        "degrau = Window.partitionBy('Selecao').orderBy(desc('Altura'))\n",
        "df.withColumn('degrau', lead('Altura').over(degrau)).show(50)"
      ],
      "metadata": {
        "colab": {
          "base_uri": "https://localhost:8080/"
        },
        "id": "39FvC3kfhBq6",
        "outputId": "9f594a67-2165-46b4-93af-83821cd43dce"
      },
      "execution_count": 33,
      "outputs": [
        {
          "output_type": "stream",
          "name": "stdout",
          "text": [
            "+---------+------+-------+----------+--------------------+------+----+---+---+----+---------------+------+\n",
            "|  Selecao|Numero|Posicao|    Camisa|                Time|Altura|Peso|Dia|Mes| Ano|Data_Nascimento|degrau|\n",
            "+---------+------+-------+----------+--------------------+------+----+---+---+----+---------------+------+\n",
            "|Argentina|     6|     DF|     FAZIO|       AS Roma (ITA)|   199|  85| 17| 03|1987|     1987-03-17|   192|\n",
            "|Argentina|     1|     GK|    GUZMÁN|   Tigres UANL (MEX)|   192|  90| 10| 02|1986|     1986-02-10|   189|\n",
            "|Argentina|    16|     DF|      ROJO|Manchester United...|   189|  82| 20| 03|1990|     1990-03-20|   189|\n",
            "|Argentina|    12|     GK|    ARMANI|CA River Plate (ARG)|   189|  85| 16| 10|1986|     1986-10-16|   186|\n",
            "|Argentina|    23|     GK| CABALLERO|    Chelsea FC (ENG)|   186|  80| 28| 09|1981|     1981-09-28|   184|\n",
            "|Argentina|     9|     FW|   HIGUAÍN|   Juventus FC (ITA)|   184|  75| 10| 12|1987|     1987-12-10|   181|\n",
            "|Argentina|     4|     DF|   ANSALDI|     Torino FC (ITA)|   181|  73| 20| 09|1986|     1986-09-20|   181|\n",
            "|Argentina|     2|     DF|   MERCADO|    Sevilla FC (ESP)|   181|  81| 18| 03|1987|     1987-03-18|   181|\n",
            "|Argentina|    17|     DF|  OTAMENDI|Manchester City F...|   181|  81| 12| 02|1988|     1988-02-12|   180|\n",
            "|Argentina|    13|     MF|      MEZA|CA Independiente ...|   180|  76| 15| 12|1992|     1992-12-15|   178|\n",
            "|Argentina|    11|     MF|  DI MARÍA|Paris Saint-Germa...|   178|  75| 14| 02|1988|     1988-02-14|   177|\n",
            "|Argentina|    21|     FW|    DYBALA|   Juventus FC (ITA)|   177|  73| 15| 11|1993|     1993-11-15|   177|\n",
            "|Argentina|    20|     MF|  LO CELSO|Paris Saint-Germa...|   177|  75| 09| 04|1996|     1996-04-09|   175|\n",
            "|Argentina|     5|     MF|    BIGLIA|      AC Milan (ITA)|   175|  73| 30| 01|1986|     1986-01-30|   175|\n",
            "|Argentina|     7|     MF|    BANEGA|    Sevilla FC (ESP)|   175|  73| 29| 06|1988|     1988-06-29|   174|\n",
            "|Argentina|    14|     DF|MASCHERANO|Hebei China Fortu...|   174|  73| 08| 06|1984|     1984-06-08|   172|\n",
            "|Argentina|    19|     FW|    AGÜERO|Manchester City F...|   172|  74| 02| 06|1988|     1988-06-02|   172|\n",
            "|Argentina|     8|     DF|     ACUÑA|   Sporting CP (POR)|   172|  77| 28| 10|1991|     1991-10-28|   170|\n",
            "|Argentina|    10|     FW|     MESSI|  FC Barcelona (ESP)|   170|  72| 24| 06|1987|     1987-06-24|   169|\n",
            "|Argentina|     3|     DF|TAGLIAFICO|      AFC Ajax (NED)|   169|  65| 31| 08|1992|     1992-08-31|   169|\n",
            "|Argentina|    22|     MF|     PAVÓN|CA Boca Juniors (...|   169|  65| 21| 01|1996|     1996-01-21|   167|\n",
            "|Argentina|    15|     MF|   LANZINI|West Ham United F...|   167|  66| 15| 02|1993|     1993-02-15|   167|\n",
            "|Argentina|    18|     DF|    SALVIO|    SL Benfica (POR)|   167|  69| 13| 07|1990|     1990-07-13|  NULL|\n",
            "|Australia|    12|     GK|     JONES|Feyenoord Rotterd...|   193|  87| 19| 03|1982|     1982-03-19|   190|\n",
            "|Australia|     9|     FW|     JURIC|     FC Luzern (SUI)|   190|  80| 22| 07|1991|     1991-07-22|   190|\n",
            "|Australia|     6|     DF|    JURMAN|Suwon Samsung Blu...|   190|  83| 08| 12|1989|     1989-12-08|   189|\n",
            "|Australia|    23|     MF|     ROGIC|     Celtic FC (SCO)|   189|  88| 16| 12|1992|     1992-12-16|   188|\n",
            "|Australia|    15|     MF|   JEDINAK|Aston Villa FC (ENG)|   188|  78| 03| 08|1984|     1984-08-03|   187|\n",
            "|Australia|     2|     DF|   DEGENEK|Yokohama F-Marino...|   187|  85| 28| 04|1994|     1994-04-28|   187|\n",
            "|Australia|    18|     GK|   VUKOVIC|      KRC Genk (BEL)|   187|  94| 27| 03|1985|     1985-03-27|   184|\n",
            "|Australia|     1|     GK|      RYAN|Brighton & Hove A...|   184|  82| 08| 04|1992|     1992-04-08|   183|\n",
            "|Australia|    20|     DF| SAINSBURY|Grasshopper Club ...|   183|  76| 05| 01|1992|     1992-01-05|   181|\n",
            "|Australia|     7|     FW|    LECKIE|    Hertha BSC (GER)|   181|  84| 04| 02|1991|     1991-02-04|   180|\n",
            "|Australia|    10|     FW|     KRUSE|    VfL Bochum (GER)|   180|  66| 05| 10|1988|     1988-10-05|   180|\n",
            "|Australia|     4|     FW|    CAHILL|   Millwall FC (ENG)|   180|  76| 06| 12|1979|     1979-12-06|   180|\n",
            "|Australia|    22|     MF|    IRVINE|  Hull City FC (ENG)|   180|  77| 07| 03|1993|     1993-03-07|   179|\n",
            "|Australia|     3|     DF|  MEREDITH|   Millwall FC (ENG)|   179|  71| 05| 04|1988|     1988-04-05|   178|\n",
            "|Australia|    14|     FW|  MACLAREN|  Hibernian FC (SCO)|   178|  72| 29| 07|1993|     1993-07-29|   178|\n",
            "|Australia|     5|     DF|  MILLIGAN|    Al Ahli SC (KSA)|   178|  78| 04| 08|1985|     1985-08-04|   178|\n",
            "|Australia|    11|     FW|   NABBOUT|    Urawa Reds (JPN)|   178|  85| 17| 12|1992|     1992-12-17|   176|\n",
            "|Australia|    21|     FW|  PETRATOS|Newcastle United ...|   176|  72| 10| 11|1992|     1992-11-10|   176|\n",
            "|Australia|     8|     MF|    LUONGO|Queens Park Range...|   176|  76| 25| 09|1992|     1992-09-25|   173|\n",
            "|Australia|    13|     MF|      MOOY|Huddersfield Town...|   173|  72| 15| 09|1990|     1990-09-15|   171|\n",
            "|Australia|    17|     FW|    ARZANI|Melbourne City FC...|   171|  73| 04| 01|1999|     1999-01-04|   170|\n",
            "|Australia|    16|     DF|    BEHICH|     Bursaspor (TUR)|   170|  63| 16| 12|1990|     1990-12-16|   169|\n",
            "|Australia|    19|     DF|    RISDON|WS Wanderers FC (...|   169|  70| 27| 07|1992|     1992-07-27|  NULL|\n",
            "|  Belgium|     1|     GK|  COURTOIS|    Chelsea FC (ENG)|   199|  91| 11| 05|1992|     1992-05-11|   197|\n",
            "|  Belgium|    13|     GK|  CASTEELS| VfL Wolfsburg (GER)|   197|  86| 25| 06|1992|     1992-06-25|   194|\n",
            "|  Belgium|     8|     MF|  FELLAINI|Manchester United...|   194|  85| 22| 11|1987|     1987-11-22|   193|\n",
            "|  Belgium|    12|     GK|  MIGNOLET|  Liverpool FC (ENG)|   193|  87| 06| 03|1988|     1988-03-06|   190|\n",
            "+---------+------+-------+----------+--------------------+------+----+---+---+----+---------------+------+\n",
            "only showing top 50 rows\n",
            "\n"
          ]
        }
      ]
    },
    {
      "cell_type": "markdown",
      "source": [
        "AGREGAÇÕES ! O GroupBy é muito parecido com o do Pandas. É bem simples. Você usa o \" df.groupBy('*Aqui você insere o nome da coluna que você quer mexer*').agg({'*Nome do iten que vai ser agregado* : *Nome da definição que você quer'})"
      ],
      "metadata": {
        "id": "b3pCOyN8h3Y9"
      }
    },
    {
      "cell_type": "code",
      "source": [
        "df.groupBy('Selecao').agg({'Altura':'avg'}).show()"
      ],
      "metadata": {
        "colab": {
          "base_uri": "https://localhost:8080/"
        },
        "id": "2HkfjL0nhZxB",
        "outputId": "3d360ef7-51b6-42fc-da2e-17d972f07362"
      },
      "execution_count": 36,
      "outputs": [
        {
          "output_type": "stream",
          "name": "stdout",
          "text": [
            "+--------------+------------------+\n",
            "|       Selecao|       avg(Altura)|\n",
            "+--------------+------------------+\n",
            "|        Russia| 184.3913043478261|\n",
            "|       Senegal|183.65217391304347|\n",
            "|        Sweden| 185.7391304347826|\n",
            "|       IR Iran|184.47826086956522|\n",
            "|       Germany| 185.7826086956522|\n",
            "|        France|183.30434782608697|\n",
            "|     Argentina|178.43478260869566|\n",
            "|       Belgium|185.34782608695653|\n",
            "|          Peru| 177.6086956521739|\n",
            "|       Croatia| 185.2608695652174|\n",
            "|       Nigeria|184.52173913043478|\n",
            "|Korea Republic| 181.8695652173913|\n",
            "|         Spain|179.91304347826087|\n",
            "|       Denmark| 186.6086956521739|\n",
            "|       Morocco|182.69565217391303|\n",
            "|        Panama|182.17391304347825|\n",
            "|       Iceland|185.52173913043478|\n",
            "|       Uruguay|181.04347826086956|\n",
            "|        Mexico| 179.7826086956522|\n",
            "|       Tunisia|183.08695652173913|\n",
            "+--------------+------------------+\n",
            "only showing top 20 rows\n",
            "\n"
          ]
        }
      ]
    },
    {
      "cell_type": "markdown",
      "source": [
        "Como ele me jogou do menor para o maior, eu vou por aqui do maior para o menor"
      ],
      "metadata": {
        "id": "PeXow6Ehidcx"
      }
    },
    {
      "cell_type": "code",
      "source": [
        "df.groupBy('Selecao').agg({'Altura':'avg'}).orderBy('avg(Altura)', ascending = False).show(50)\n"
      ],
      "metadata": {
        "colab": {
          "base_uri": "https://localhost:8080/"
        },
        "id": "at8x99j5iI-v",
        "outputId": "507aaf02-c56e-45c5-b84b-9f0c84517b47"
      },
      "execution_count": 40,
      "outputs": [
        {
          "output_type": "stream",
          "name": "stdout",
          "text": [
            "+--------------+------------------+\n",
            "|       Selecao|       avg(Altura)|\n",
            "+--------------+------------------+\n",
            "|        Serbia|186.69565217391303|\n",
            "|       Denmark| 186.6086956521739|\n",
            "|       Germany| 185.7826086956522|\n",
            "|        Sweden| 185.7391304347826|\n",
            "|       Iceland|185.52173913043478|\n",
            "|       Belgium|185.34782608695653|\n",
            "|       Croatia| 185.2608695652174|\n",
            "|       Nigeria|184.52173913043478|\n",
            "|       IR Iran|184.47826086956522|\n",
            "|        Russia| 184.3913043478261|\n",
            "|       Senegal|183.65217391304347|\n",
            "|        France|183.30434782608697|\n",
            "|        Poland|183.17391304347825|\n",
            "|       Tunisia|183.08695652173913|\n",
            "|   Switzerland|182.91304347826087|\n",
            "|       England| 182.7391304347826|\n",
            "|       Morocco|182.69565217391303|\n",
            "|        Panama|182.17391304347825|\n",
            "|Korea Republic| 181.8695652173913|\n",
            "|       Uruguay|181.04347826086956|\n",
            "|         Egypt|             181.0|\n",
            "|     Australia| 180.8695652173913|\n",
            "|        Brazil| 180.7826086956522|\n",
            "|      Colombia| 180.7826086956522|\n",
            "|    Costa Rica|180.69565217391303|\n",
            "|         Spain|179.91304347826087|\n",
            "|        Mexico| 179.7826086956522|\n",
            "|      Portugal| 179.7391304347826|\n",
            "|         Japan| 178.7826086956522|\n",
            "|     Argentina|178.43478260869566|\n",
            "|  Saudi Arabia|177.65217391304347|\n",
            "|          Peru| 177.6086956521739|\n",
            "+--------------+------------------+\n",
            "\n"
          ]
        }
      ]
    },
    {
      "cell_type": "markdown",
      "source": [
        "A Segunda forma é um pouco mais fácil:"
      ],
      "metadata": {
        "id": "pZgJ2T6kjHxc"
      }
    },
    {
      "cell_type": "code",
      "source": [
        "df.groupBy('Selecao').agg({'Altura': 'max'}).orderBy('max(Altura)', ascending=False).show(50)"
      ],
      "metadata": {
        "colab": {
          "base_uri": "https://localhost:8080/"
        },
        "id": "G-JQIUDliuz8",
        "outputId": "70e2f529-f422-4167-fdc2-fd7fb4e6ff3e"
      },
      "execution_count": 55,
      "outputs": [
        {
          "output_type": "stream",
          "name": "stdout",
          "text": [
            "+--------------+-----------+\n",
            "|       Selecao|max(Altura)|\n",
            "+--------------+-----------+\n",
            "|       Croatia|        201|\n",
            "|       Denmark|        200|\n",
            "|     Argentina|        199|\n",
            "|       Belgium|        199|\n",
            "|        Sweden|        198|\n",
            "|       Iceland|        198|\n",
            "|        France|        197|\n",
            "|       Nigeria|        197|\n",
            "|Korea Republic|        197|\n",
            "|        Panama|        197|\n",
            "|        Russia|        196|\n",
            "|       Senegal|        196|\n",
            "|       Uruguay|        196|\n",
            "|       England|        196|\n",
            "|    Costa Rica|        196|\n",
            "|       Germany|        195|\n",
            "|        Brazil|        195|\n",
            "|        Poland|        195|\n",
            "|        Serbia|        195|\n",
            "|       IR Iran|        194|\n",
            "|         Spain|        194|\n",
            "|         Egypt|        194|\n",
            "|      Colombia|        194|\n",
            "|     Australia|        193|\n",
            "|       Tunisia|        192|\n",
            "|  Saudi Arabia|        192|\n",
            "|   Switzerland|        192|\n",
            "|      Portugal|        191|\n",
            "|       Morocco|        190|\n",
            "|        Mexico|        190|\n",
            "|          Peru|        189|\n",
            "|         Japan|        189|\n",
            "+--------------+-----------+\n",
            "\n"
          ]
        }
      ]
    },
    {
      "cell_type": "markdown",
      "source": [
        "\"Where \" - o Where aqui é aquela fusão entre o pandas e o SQL também..."
      ],
      "metadata": {
        "id": "XCgLrBnkkJSS"
      }
    },
    {
      "cell_type": "code",
      "source": [
        "df.where('Selecao = \"Brazil\"').where('Posicao = \"FW\"').show()\n",
        "# O where e o FIlter são muito parecidos\n",
        "#where((condicao 1 ) & (condicao 2))"
      ],
      "metadata": {
        "colab": {
          "base_uri": "https://localhost:8080/"
        },
        "id": "R9xCYgh9jX_2",
        "outputId": "676d7305-b855-4348-f796-fceb447ab6f6"
      },
      "execution_count": 50,
      "outputs": [
        {
          "output_type": "stream",
          "name": "stdout",
          "text": [
            "+-------+------+-------+---------+--------------------+------+----+---+---+----+---------------+\n",
            "|Selecao|Numero|Posicao|   Camisa|                Time|Altura|Peso|Dia|Mes| Ano|Data_Nascimento|\n",
            "+-------+------+-------+---------+--------------------+------+----+---+---+----+---------------+\n",
            "| Brazil|    21|     FW|   TAISON|FC Shakhtar Donet...|   172|  64| 13| 01|1988|     1988-01-13|\n",
            "| Brazil|    10|     FW|NEYMAR JR|Paris Saint-Germa...|   175|  68| 05| 02|1992|     1992-02-05|\n",
            "| Brazil|     7|     FW| D. COSTA|   Juventus FC (ITA)|   182|  70| 14| 09|1990|     1990-09-14|\n",
            "| Brazil|     9|     FW| G. JESUS|Manchester City F...|   175|  73| 03| 04|1997|     1997-04-03|\n",
            "| Brazil|    20|     FW|  FIRMINO|  Liverpool FC (ENG)|   181|  76| 02| 10|1991|     1991-10-02|\n",
            "+-------+------+-------+---------+--------------------+------+----+---+---+----+---------------+\n",
            "\n"
          ]
        }
      ]
    },
    {
      "cell_type": "markdown",
      "source": [
        "Se a gente quiser saber todas as informações do jogador mais alto, por exemplo, temos aqui a opção de pegar o"
      ],
      "metadata": {
        "id": "1SYoIxoSlAhv"
      }
    },
    {
      "cell_type": "code",
      "source": [
        "top1 = Window.partitionBy('Selecao').orderBy(desc('Altura'))\n",
        "\n",
        "df.withColumn('Top',rank().over(top1)).where('Top = 1').show(50)"
      ],
      "metadata": {
        "colab": {
          "base_uri": "https://localhost:8080/"
        },
        "id": "UMEWuhuckR5n",
        "outputId": "0c641f6c-d346-4535-acc3-fe13c06f4901"
      },
      "execution_count": 60,
      "outputs": [
        {
          "output_type": "stream",
          "name": "stdout",
          "text": [
            "+--------------+------+-------+-------------+--------------------+------+----+---+---+----+---------------+---+\n",
            "|       Selecao|Numero|Posicao|       Camisa|                Time|Altura|Peso|Dia|Mes| Ano|Data_Nascimento|Top|\n",
            "+--------------+------+-------+-------------+--------------------+------+----+---+---+----+---------------+---+\n",
            "|     Argentina|     6|     DF|        FAZIO|       AS Roma (ITA)|   199|  85| 17| 03|1987|     1987-03-17|  1|\n",
            "|     Australia|    12|     GK|        JONES|Feyenoord Rotterd...|   193|  87| 19| 03|1982|     1982-03-19|  1|\n",
            "|       Belgium|     1|     GK|     COURTOIS|    Chelsea FC (ENG)|   199|  91| 11| 05|1992|     1992-05-11|  1|\n",
            "|        Brazil|    16|     GK|       CASSIO|SC Corinthians (BRA)|   195|  92| 06| 06|1987|     1987-06-06|  1|\n",
            "|      Colombia|    13|     DF|      Y. MINA|  FC Barcelona (ESP)|   194|  95| 23| 09|1994|     1994-09-23|  1|\n",
            "|    Costa Rica|    19|     DF|    K. WASTON|Vancouver Whiteca...|   196|  87| 01| 01|1988|     1988-01-01|  1|\n",
            "|       Croatia|    12|     GK|   L. KALINIĆ|      KAA Gent (BEL)|   201|  96| 03| 04|1990|     1990-04-03|  1|\n",
            "|       Denmark|     3|     DF|  VESTERGAARD|VfL Borussia Mönc...|   200|  98| 03| 08|1992|     1992-08-03|  1|\n",
            "|         Egypt|     6|     DF|    A. HEGAZY|West Bromwich Alb...|   194|  95| 25| 01|1991|     1991-01-25|  1|\n",
            "|       England|    13|     GK|      BUTLAND| Stoke City FC (ENG)|   196|  96| 10| 03|1993|     1993-03-10|  1|\n",
            "|        France|    15|     MF|       NZONZI|    Sevilla FC (ESP)|   197|  87| 15| 12|1988|     1988-12-15|  1|\n",
            "|       Germany|    15|     DF|         SÜLE|FC Bayern München...|   195|  89| 03| 09|1995|     1995-09-03|  1|\n",
            "|       IR Iran|     1|     GK|A. BEIRANVAND| Persepolis FC (IRN)|   194|  85| 21| 09|1992|     1992-09-21|  1|\n",
            "|       Iceland|    12|     GK|       SCHRAM|   Roskilde BK (DEN)|   198|  92| 19| 01|1995|     1995-01-19|  1|\n",
            "|         Japan|    22|     DF|      YOSHIDA|Southampton FC (ENG)|   189|  78| 24| 08|1988|     1988-08-24|  1|\n",
            "|Korea Republic|     9|     FW|      S W KIM|Jeonbuk Hyundai (...|   197|  97| 14| 04|1988|     1988-04-14|  1|\n",
            "|        Mexico|     5|     DF|     D. REYES|      FC Porto (POR)|   190|  77| 19| 09|1992|     1992-09-19|  1|\n",
            "|       Morocco|     6|     DF|        SAISS|Wolverhampton Wan...|   190|  76| 26| 03|1990|     1990-03-26|  1|\n",
            "|       Morocco|     1|     GK|       BOUNOU|     Girona FC (ESP)|   190|  77| 05| 04|1991|     1991-04-05|  1|\n",
            "|       Morocco|    13|     FW|      BOUTAIB|Yeni Malatyaspor ...|   190|  80| 24| 04|1987|     1987-04-24|  1|\n",
            "|       Morocco|    12|     GK|    EL KAJOUI|   CD Numancia (ESP)|   190|  88| 10| 05|1989|     1989-05-10|  1|\n",
            "|       Nigeria|    13|     FW|      NWANKWO|    FC Crotone (ITA)|   197|  89| 07| 05|1992|     1992-05-07|  1|\n",
            "|        Panama|    22|     GK|    RODRIGUEZ|San Francisco FC ...|   197|  83| 05| 08|1990|     1990-08-05|  1|\n",
            "|          Peru|     1|     GK|      GALLESE|CD Tiburones Rojo...|   189|  79| 23| 02|1990|     1990-02-23|  1|\n",
            "|        Poland|     1|     GK|     SZCZESNY|   Juventus FC (ITA)|   195|  84| 18| 04|1990|     1990-04-18|  1|\n",
            "|      Portugal|     6|     DF|        FONTE|Dalian Yifang FC ...|   191|  84| 22| 12|1983|     1983-12-22|  1|\n",
            "|        Russia|    22|     FW|       DZYUBA|FC Arsenal Tula (...|   196|  90| 22| 08|1988|     1988-08-22|  1|\n",
            "|  Saudi Arabia|    12|     MF|        KANNO|  Al Hilal SFC (KSA)|   192|  73| 22| 09|1994|     1994-09-22|  1|\n",
            "|       Senegal|    23|     GK|        GOMIS|  SPAL Ferrara (ITA)|   196|  80| 05| 09|1993|     1993-09-05|  1|\n",
            "|       Senegal|     6|     MF|      S. SANE|   Hannover 96 (GER)|   196|  84| 25| 08|1990|     1990-08-25|  1|\n",
            "|        Serbia|    15|     DF|   MILENKOVIĆ|ACF Fiorentina (ITA)|   195|  90| 12| 10|1997|     1997-10-12|  1|\n",
            "|        Serbia|     1|     GK|    STOJKOVIĆ|   FK Partizan (SRB)|   195|  92| 28| 07|1983|     1983-07-28|  1|\n",
            "|         Spain|     3|     DF|        PIQUÉ|  FC Barcelona (ESP)|   194|  85| 02| 02|1987|     1987-02-02|  1|\n",
            "|        Sweden|     1|     GK|        OLSEN|  FC Kobenhavn (DEN)|   198|  89| 08| 01|1990|     1990-01-08|  1|\n",
            "|   Switzerland|    20|     DF|      DJOUROU|Antalyaspor AS (TUR)|   192|  90| 18| 01|1987|     1987-01-18|  1|\n",
            "|       Tunisia|     1|     GK| BEN MUSTAPHA|  Al Shabab FC (KSA)|   192|  85| 01| 07|1989|     1989-07-01|  1|\n",
            "|       Uruguay|    19|     DF|       COATES|   Sporting CP (POR)|   196|  89| 07| 10|1990|     1990-10-07|  1|\n",
            "+--------------+------+-------+-------------+--------------------+------+----+---+---+----+---------------+---+\n",
            "\n"
          ]
        }
      ]
    },
    {
      "cell_type": "markdown",
      "source": [
        "Describe - Função para descrever todas as informações da tabela\n"
      ],
      "metadata": {
        "id": "BEw8MVQfoKlg"
      }
    },
    {
      "cell_type": "code",
      "source": [
        "df.describe().show()"
      ],
      "metadata": {
        "colab": {
          "base_uri": "https://localhost:8080/"
        },
        "id": "0agHgv8tl6LR",
        "outputId": "4399dd2f-9d36-4869-a007-823f8d69c396"
      },
      "execution_count": 61,
      "outputs": [
        {
          "output_type": "stream",
          "name": "stdout",
          "text": [
            "+-------+---------+-----------------+-------+---------+--------------------+-----------------+-----------------+------------------+------------------+------------------+\n",
            "|summary|  Selecao|           Numero|Posicao|   Camisa|                Time|           Altura|             Peso|               Dia|               Mes|               Ano|\n",
            "+-------+---------+-----------------+-------+---------+--------------------+-----------------+-----------------+------------------+------------------+------------------+\n",
            "|  count|      736|              736|    736|      736|                 736|              736|              736|               736|               736|               736|\n",
            "|   mean|     NULL|             12.0|   NULL|     NULL|                NULL|182.4076086956522|77.18885869565217|15.793478260869565|5.8790760869565215| 1990.110054347826|\n",
            "| stddev|     NULL|6.637760461599851|   NULL|     NULL|                NULL|6.930924233929302|7.233778346883639| 8.761123828732469|3.3782493094684387|3.9074472063626775|\n",
            "|    min|Argentina|                1|     DF|A. ASHRAF|    1. FC Köln (GER)|              165|               59|                01|                01|              1973|\n",
            "|    max|  Uruguay|               23|     MF| ŽIVKOVIĆ|Étoile du Sahel (...|              201|               99|                31|                12|              1999|\n",
            "+-------+---------+-----------------+-------+---------+--------------------+-----------------+-----------------+------------------+------------------+------------------+\n",
            "\n"
          ]
        }
      ]
    },
    {
      "cell_type": "code",
      "source": [
        "df.where('Selecao = \"Brazil\"').describe().show(5)"
      ],
      "metadata": {
        "colab": {
          "base_uri": "https://localhost:8080/"
        },
        "id": "J2FczTEUoR3W",
        "outputId": "81ec39eb-19aa-4cca-ed0c-b89189c387ce"
      },
      "execution_count": 64,
      "outputs": [
        {
          "output_type": "stream",
          "name": "stdout",
          "text": [
            "+-------+-------+-----------------+-------+---------+--------------------+-----------------+-----------------+-----------------+-----------------+-----------------+\n",
            "|summary|Selecao|           Numero|Posicao|   Camisa|                Time|           Altura|             Peso|              Dia|              Mes|              Ano|\n",
            "+-------+-------+-----------------+-------+---------+--------------------+-----------------+-----------------+-----------------+-----------------+-----------------+\n",
            "|  count|     23|               23|     23|       23|                  23|               23|               23|               23|               23|               23|\n",
            "|   mean|   NULL|             12.0|   NULL|     NULL|                NULL|180.7826086956522|76.56521739130434|11.26086956521739|6.130434782608695|1989.391304347826|\n",
            "| stddev|   NULL|6.782329983125267|   NULL|     NULL|                NULL|7.354383490255254|8.239737898283606|6.876953549252538|2.784769418006175|3.499858833968506|\n",
            "|    min| Brazil|                1|     DF|A. BECKER|       AS Roma (ITA)|              168|               64|               02|               01|             1984|\n",
            "|    max| Brazil|               23|     MF|  WILLIAN|SC Corinthians (BRA)|              195|               92|               25|               10|             1997|\n",
            "+-------+-------+-----------------+-------+---------+--------------------+-----------------+-----------------+-----------------+-----------------+-----------------+\n",
            "\n"
          ]
        }
      ]
    },
    {
      "cell_type": "markdown",
      "source": [
        "Função de agregação usando o Window Function"
      ],
      "metadata": {
        "id": "pnMyFRFgo3l2"
      }
    },
    {
      "cell_type": "code",
      "source": [
        "parametro = Window.partitionBy('Selecao').orderBy(desc('Altura'))\n",
        "parametro2 = Window.partitionBy('Selecao')\n",
        "\n",
        "dfmedias = df.withColumn('linhanova', row_number().over(parametro))\\\n",
        ".withColumn('media', avg('Altura').over(parametro2))\\\n",
        ".withColumn('maximo', max('Altura').over(parametro2))\\\n",
        ".withColumn('minimo', min('Altura').over(parametro2))\\\n",
        ".filter(col('linhanova') == \"1\")\\\n",
        ".select('Selecao','media','maximo','minimo')\\\n",
        ".orderBy('media', ascending = False)"
      ],
      "metadata": {
        "id": "EJ0YUN80ooTG"
      },
      "execution_count": 82,
      "outputs": []
    },
    {
      "cell_type": "code",
      "source": [
        "dfmedias.show(50)"
      ],
      "metadata": {
        "colab": {
          "base_uri": "https://localhost:8080/"
        },
        "id": "Zzsxttxfpz6J",
        "outputId": "0a90ac10-4b11-4886-fc29-6e89f90a4948"
      },
      "execution_count": 83,
      "outputs": [
        {
          "output_type": "stream",
          "name": "stdout",
          "text": [
            "+--------------+------------------+------+------+\n",
            "|       Selecao|             media|maximo|minimo|\n",
            "+--------------+------------------+------+------+\n",
            "|        Serbia|186.69565217391303|   195|   169|\n",
            "|       Denmark| 186.6086956521739|   200|   171|\n",
            "|       Germany| 185.7826086956522|   195|   176|\n",
            "|        Sweden| 185.7391304347826|   198|   177|\n",
            "|       Iceland|185.52173913043478|   198|   170|\n",
            "|       Belgium|185.34782608695653|   199|   169|\n",
            "|       Croatia| 185.2608695652174|   201|   172|\n",
            "|       Nigeria|184.52173913043478|   197|   172|\n",
            "|       IR Iran|184.47826086956522|   194|   177|\n",
            "|        Russia| 184.3913043478261|   196|   173|\n",
            "|       Senegal|183.65217391304347|   196|   173|\n",
            "|        France|183.30434782608697|   197|   168|\n",
            "|        Poland|183.17391304347825|   195|   172|\n",
            "|       Tunisia|183.08695652173913|   192|   170|\n",
            "|   Switzerland|182.91304347826087|   192|   165|\n",
            "|       England| 182.7391304347826|   196|   170|\n",
            "|       Morocco|182.69565217391303|   190|   167|\n",
            "|        Panama|182.17391304347825|   197|   165|\n",
            "|Korea Republic| 181.8695652173913|   197|   170|\n",
            "|       Uruguay|181.04347826086956|   196|   168|\n",
            "|         Egypt|             181.0|   194|   169|\n",
            "|     Australia| 180.8695652173913|   193|   169|\n",
            "|        Brazil| 180.7826086956522|   195|   168|\n",
            "|      Colombia| 180.7826086956522|   194|   169|\n",
            "|    Costa Rica|180.69565217391303|   196|   172|\n",
            "|         Spain|179.91304347826087|   194|   170|\n",
            "|        Mexico| 179.7826086956522|   190|   166|\n",
            "|      Portugal| 179.7391304347826|   191|   168|\n",
            "|         Japan| 178.7826086956522|   189|   168|\n",
            "|     Argentina|178.43478260869566|   199|   167|\n",
            "|  Saudi Arabia|177.65217391304347|   192|   165|\n",
            "|          Peru| 177.6086956521739|   189|   169|\n",
            "+--------------+------------------+------+------+\n",
            "\n"
          ]
        }
      ]
    },
    {
      "cell_type": "code",
      "source": [],
      "metadata": {
        "id": "AKuu4luUsgBZ"
      },
      "execution_count": null,
      "outputs": []
    }
  ]
}